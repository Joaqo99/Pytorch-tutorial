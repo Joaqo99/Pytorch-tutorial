{
 "cells": [
  {
   "cell_type": "markdown",
   "metadata": {},
   "source": [
    "# Ejercicios - Workflow"
   ]
  },
  {
   "cell_type": "code",
   "execution_count": 2,
   "metadata": {},
   "outputs": [],
   "source": [
    "import torch\n",
    "from torch import nn\n",
    "from matplotlib import pyplot as plt\n",
    "import numpy as np"
   ]
  },
  {
   "cell_type": "markdown",
   "metadata": {},
   "source": [
    "1) Create a straight line dataset using the linear regression formula (weight * X + bias).\n",
    "- Set weight=0.3 and bias=0.9 there should be at least 100 datapoints total.\n",
    "- Split the data into 80% training, 20% testing.\n",
    "- Plot the training and testing data so it becomes visual."
   ]
  },
  {
   "cell_type": "code",
   "execution_count": 10,
   "metadata": {},
   "outputs": [
    {
     "name": "stdout",
     "output_type": "stream",
     "text": [
      "tensor([[0.0000],\n",
      "        [0.0100],\n",
      "        [0.0200],\n",
      "        [0.0300],\n",
      "        [0.0400]]) tensor([[0.9000],\n",
      "        [0.9030],\n",
      "        [0.9060],\n",
      "        [0.9090],\n",
      "        [0.9120]])\n"
     ]
    }
   ],
   "source": [
    "weight = 0.3\n",
    "bias = 0.9\n",
    "\n",
    "X = torch.arange(0, 1, 0.01).unsqueeze(dim=1)\n",
    "y = X*weight + bias\n",
    "\n",
    "print(X[:5], y[:5])"
   ]
  },
  {
   "cell_type": "code",
   "execution_count": 15,
   "metadata": {},
   "outputs": [],
   "source": [
    "X_train, X_test = X[:int(len(X)*0.8)], X[int(len(X)*0.8):]\n",
    "y_train, y_test = y[:int(len(y)*0.8)], y[int(len(y)*0.8):]"
   ]
  },
  {
   "cell_type": "code",
   "execution_count": 16,
   "metadata": {},
   "outputs": [],
   "source": [
    "def plot_predictions(train_data = X_train, train_labels = y_train, test_data = X_test, test_labels = y_test, predictions = None, model_name = \"\"):\n",
    "    \"\"\"\n",
    "    Plots training data, test data, and compares predictions\n",
    "\n",
    "    Output:\n",
    "        - Train data (color Blue)\n",
    "        - Test data (color Green)\n",
    "        - Predictions (color red)\n",
    "    \"\"\"\n",
    "    plt.scatter(train_data, train_labels, c=\"b\", s=4, label = \"Training data\")\n",
    "    plt.scatter(test_data, test_labels, c=\"g\", s=4, label = \"Testing data\")\n",
    "\n",
    "    if predictions is not None:\n",
    "        plt.scatter(test_data, predictions, c=\"r\", s=4, label=\"Predictions\")\n",
    "\n",
    "    plt.title(f\"{model_name} Predictions\") \n",
    "\n",
    "    plt.legend()"
   ]
  },
  {
   "cell_type": "code",
   "execution_count": 17,
   "metadata": {},
   "outputs": [
    {
     "data": {
      "image/png": "[encoded data removed]",
      "text/plain": [
       "<Figure size 640x480 with 1 Axes>"
      ]
     },
     "metadata": {},
     "output_type": "display_data"
    }
   ],
   "source": [
    "plot_predictions()"
   ]
  },
  {
   "cell_type": "markdown",
   "metadata": {},
   "source": [
    "2) Build a PyTorch model by subclassing nn.Module.\n",
    "- Inside should be a randomly initialized nn.Parameter() with requires_grad=True, one for weights and one for bias.\n",
    "- Implement the forward() method to compute the linear regression function you used to create the dataset in 1.\n",
    "- Once you've constructed the model, make an instance of it and check its state_dict().\n",
    "- Note: If you'd like to use nn.Linear() instead of nn.Parameter() you can."
   ]
  },
  {
   "cell_type": "code",
   "execution_count": 32,
   "metadata": {},
   "outputs": [],
   "source": [
    "class LinearRegressionModelV1(nn.Module):\n",
    "    def __init__(self):\n",
    "        super().__init__()\n",
    "        self.weight = nn.Parameter(torch.randn(1, requires_grad=True, dtype=torch.float))\n",
    "        self.bias = nn.Parameter(torch.randn(1, requires_grad=True, dtype=torch.float))\n",
    "\n",
    "    def forward(self, x: torch.Tensor) -> torch.Tensor:\n",
    "            return self.weight * x + self.bias\n",
    "\n",
    "class LinearRegressionModelV2(nn.Module):\n",
    "    def __init__(self):\n",
    "        super().__init__()\n",
    "        self.linear_layer = nn.Linear(in_features=1, out_features=1)\n",
    "\n",
    "    def forward(self, x: torch.Tensor)-> torch.Tensor:\n",
    "        return self.linear_layer(x)"
   ]
  },
  {
   "cell_type": "code",
   "execution_count": 33,
   "metadata": {},
   "outputs": [
    {
     "data": {
      "text/plain": [
       "OrderedDict([('weight', tensor([0.3367])), ('bias', tensor([0.1288]))])"
      ]
     },
     "execution_count": 33,
     "metadata": {},
     "output_type": "execute_result"
    }
   ],
   "source": [
    "torch.manual_seed(42)\n",
    "\n",
    "model_2 = LinearRegressionModelV1()\n",
    "model_2.state_dict()"
   ]
  },
  {
   "cell_type": "code",
   "execution_count": 34,
   "metadata": {},
   "outputs": [
    {
     "data": {
      "text/plain": [
       "OrderedDict([('linear_layer.weight', tensor([[0.7645]])),\n",
       "             ('linear_layer.bias', tensor([0.8300]))])"
      ]
     },
     "execution_count": 34,
     "metadata": {},
     "output_type": "execute_result"
    }
   ],
   "source": [
    "torch.manual_seed(42)\n",
    "\n",
    "model_3 = LinearRegressionModelV2()\n",
    "model_3.state_dict()"
   ]
  },
  {
   "cell_type": "markdown",
   "metadata": {},
   "source": [
    "3) Create a loss function and optimizer using nn.L1Loss() and torch.optim.SGD(params, lr) respectively.\n",
    "- Set the learning rate of the optimizer to be 0.01 and the parameters to optimize should be the model parameters from the model you created in 2.\n",
    "- Write a training loop to perform the appropriate training steps for 300 epochs.\n",
    "- The training loop should test the model on the test dataset every 20 epochs."
   ]
  },
  {
   "cell_type": "code",
   "execution_count": 35,
   "metadata": {},
   "outputs": [
    {
     "name": "stdout",
     "output_type": "stream",
     "text": [
      "Epoch: 1 | Loss: 0.745137631893158 | Test loss: 0.7112821340560913\n",
      "Epoch: 2 | Loss: 0.7335773706436157 | Test loss: 0.6977468729019165\n",
      "Epoch: 3 | Loss: 0.7220171093940735 | Test loss: 0.6842116713523865\n",
      "Epoch: 4 | Loss: 0.7104568481445312 | Test loss: 0.6706763505935669\n",
      "Epoch: 5 | Loss: 0.698896586894989 | Test loss: 0.6571411490440369\n",
      "Epoch: 6 | Loss: 0.6873363256454468 | Test loss: 0.6436058878898621\n",
      "Epoch: 7 | Loss: 0.6757761240005493 | Test loss: 0.630070686340332\n",
      "Epoch: 8 | Loss: 0.6642158627510071 | Test loss: 0.6165354251861572\n",
      "Epoch: 9 | Loss: 0.6526556015014648 | Test loss: 0.6030001640319824\n",
      "Epoch: 11 | Loss: 0.6295350790023804 | Test loss: 0.5759296417236328\n",
      "Epoch: 12 | Loss: 0.6179748773574829 | Test loss: 0.562394380569458\n",
      "Epoch: 13 | Loss: 0.6064146161079407 | Test loss: 0.548859179019928\n",
      "Epoch: 14 | Loss: 0.5948542952537537 | Test loss: 0.5353239178657532\n",
      "Epoch: 15 | Loss: 0.5832940936088562 | Test loss: 0.5217887163162231\n",
      "Epoch: 16 | Loss: 0.571733832359314 | Test loss: 0.5082534551620483\n",
      "Epoch: 17 | Loss: 0.5601736307144165 | Test loss: 0.49471816420555115\n",
      "Epoch: 18 | Loss: 0.5486133694648743 | Test loss: 0.4811829626560211\n",
      "Epoch: 19 | Loss: 0.537053108215332 | Test loss: 0.4676477015018463\n"
     ]
    }
   ],
   "source": [
    "#train loop for model_2:\n",
    "\n",
    "loss_fn = nn.L1Loss()\n",
    "optimizer_2 = torch.optim.SGD(model_2.parameters(), lr=0.01)\n",
    "\n",
    "epochs = 20\n",
    "\n",
    "torch.manual_seed(42)\n",
    "\n",
    "for epoch in range(epochs):\n",
    "    model_2.train()\n",
    "\n",
    "    y_pred = model_2.forward(X_train)\n",
    "\n",
    "    loss = loss_fn(y_pred, y_train)\n",
    "\n",
    "    optimizer_2.zero_grad()\n",
    "\n",
    "    loss.backward()\n",
    "\n",
    "    optimizer_2.step()\n",
    "\n",
    "    model_2.eval()\n",
    "\n",
    "    with torch.inference_mode():\n",
    "        test_preds = model_2(X_test)\n",
    "        test_loss = loss_fn(test_preds, y_test)\n",
    "\n",
    "    if epoch % 10: \n",
    "        print(f\"Epoch: {epoch} | Loss: {loss} | Test loss: {test_loss}\")"
   ]
  },
  {
   "cell_type": "code",
   "execution_count": 36,
   "metadata": {},
   "outputs": [
    {
     "name": "stdout",
     "output_type": "stream",
     "text": [
      "Epoch: 1 | Loss: 0.12268531322479248 | Test loss: 0.3275222182273865\n",
      "Epoch: 2 | Loss: 0.11817598342895508 | Test loss: 0.3188292384147644\n",
      "Epoch: 3 | Loss: 0.11404351890087128 | Test loss: 0.31071916222572327\n",
      "Epoch: 4 | Loss: 0.11039082705974579 | Test loss: 0.3029037415981293\n",
      "Epoch: 5 | Loss: 0.10704056173563004 | Test loss: 0.2953853905200958\n",
      "Epoch: 6 | Loss: 0.10397658497095108 | Test loss: 0.28816625475883484\n",
      "Epoch: 7 | Loss: 0.10118546336889267 | Test loss: 0.2815522253513336\n",
      "Epoch: 8 | Loss: 0.09876175224781036 | Test loss: 0.27524417638778687\n",
      "Epoch: 9 | Loss: 0.09655755013227463 | Test loss: 0.2692442536354065\n",
      "Epoch: 11 | Loss: 0.09265774488449097 | Test loss: 0.257554829120636\n",
      "Epoch: 12 | Loss: 0.09094460308551788 | Test loss: 0.2521781027317047\n",
      "Epoch: 13 | Loss: 0.08940067142248154 | Test loss: 0.2471161186695099\n",
      "Epoch: 14 | Loss: 0.08800855278968811 | Test loss: 0.24237127602100372\n",
      "Epoch: 15 | Loss: 0.08675072342157364 | Test loss: 0.23794588446617126\n",
      "Epoch: 16 | Loss: 0.08561631292104721 | Test loss: 0.2335204780101776\n",
      "Epoch: 17 | Loss: 0.08454669266939163 | Test loss: 0.2294166535139084\n",
      "Epoch: 18 | Loss: 0.08357631415128708 | Test loss: 0.22563663125038147\n",
      "Epoch: 19 | Loss: 0.08270234614610672 | Test loss: 0.22185663878917694\n"
     ]
    }
   ],
   "source": [
    "#train loop for model_3:\n",
    "\n",
    "optimizer_3 = torch.optim.SGD(model_3.parameters(), lr=0.01)\n",
    "\n",
    "epochs = 20\n",
    "\n",
    "for epoch in range(epochs):\n",
    "    model_3.train()\n",
    "\n",
    "    y_preds = model_3.forward(X_train)\n",
    "\n",
    "    loss = loss_fn(y_preds, y_train)\n",
    "\n",
    "    optimizer_3.zero_grad()\n",
    "\n",
    "    loss.backward()\n",
    "\n",
    "    optimizer_3.step()\n",
    "\n",
    "    with torch.inference_mode():\n",
    "        test_preds = model_3.forward(X_test)\n",
    "        test_loss = loss_fn(test_preds, y_test)\n",
    "    \n",
    "    if epoch % 10: \n",
    "        print(f\"Epoch: {epoch} | Loss: {loss} | Test loss: {test_loss}\")"
   ]
  },
  {
   "cell_type": "markdown",
   "metadata": {},
   "source": [
    "4) Make predictions with the trained model on the test data.\n",
    "- Visualize these predictions against the original training and testing data (note: you may need to make sure the predictions are not on the GPU if you want to use non-CUDA-enabled libraries such as matplotlib to plot)."
   ]
  },
  {
   "cell_type": "code",
   "execution_count": 37,
   "metadata": {},
   "outputs": [
    {
     "data": {
      "image/png": "[encoded data removed]",
      "text/plain": [
       "<Figure size 640x480 with 1 Axes>"
      ]
     },
     "metadata": {},
     "output_type": "display_data"
    }
   ],
   "source": [
    "model_2.eval()\n",
    "\n",
    "with torch.inference_mode():\n",
    "    y_preds_2 = model_2.forward(X_test)\n",
    "\n",
    "plot_predictions(predictions=y_preds_2, model_name=\"Model 2\")"
   ]
  },
  {
   "cell_type": "code",
   "execution_count": 39,
   "metadata": {},
   "outputs": [
    {
     "data": {
      "image/png": "[encoded data removed]",
      "text/plain": [
       "<Figure size 640x480 with 1 Axes>"
      ]
     },
     "metadata": {},
     "output_type": "display_data"
    }
   ],
   "source": [
    "model_3.eval()\n",
    "\n",
    "with torch.inference_mode():\n",
    "    y_preds_3 = model_3.forward(X_test)\n",
    "\n",
    "plot_predictions(predictions=y_preds_3, model_name=\"Model 3\")"
   ]
  },
  {
   "cell_type": "markdown",
   "metadata": {},
   "source": [
    "\n",
    "5) Save your trained model's state_dict() to file.\n",
    "- Create a new instance of your model class you made in 2. and load in the state_dict() you just saved to it.\n",
    "- Perform predictions on your test data with the loaded model and confirm they match the original model predictions from 4."
   ]
  },
  {
   "cell_type": "code",
   "execution_count": 43,
   "metadata": {},
   "outputs": [
    {
     "name": "stdout",
     "output_type": "stream",
     "text": [
      "Saving model to: models\\01_pytorch_workflow_model_2.pth\n"
     ]
    }
   ],
   "source": [
    "from pathlib import Path\n",
    "\n",
    "# 1) Crear el directorio\n",
    "MODEL_PATH = Path(\"models\")\n",
    "MODEL_PATH.mkdir(parents=True, exist_ok=True)\n",
    "\n",
    "# 2) Crear al path de guardado\n",
    "MODEL_NAME = \"01_pytorch_workflow_model_2.pth\"\n",
    "MODEL_SAVE_PATH_1 = MODEL_PATH / MODEL_NAME\n",
    "\n",
    "\n",
    "# 3) Guardar el model state dict\n",
    "print(F\"Saving model to: {MODEL_SAVE_PATH_1}\")\n",
    "torch.save(obj=model_2.state_dict(), f=MODEL_SAVE_PATH_1)"
   ]
  },
  {
   "cell_type": "code",
   "execution_count": 44,
   "metadata": {},
   "outputs": [
    {
     "name": "stdout",
     "output_type": "stream",
     "text": [
      "Saving model to: models\\01_pytorch_workflow_model_3.pth\n"
     ]
    }
   ],
   "source": [
    "MODEL_NAME = \"01_pytorch_workflow_model_3.pth\"\n",
    "MODEL_SAVE_PATH_2 = MODEL_PATH / MODEL_NAME\n",
    "\n",
    "print(F\"Saving model to: {MODEL_SAVE_PATH_2}\")\n",
    "torch.save(obj=model_3.state_dict(), f=MODEL_SAVE_PATH_2)"
   ]
  },
  {
   "cell_type": "code",
   "execution_count": 45,
   "metadata": {},
   "outputs": [
    {
     "data": {
      "text/plain": [
       "<All keys matched successfully>"
      ]
     },
     "execution_count": 45,
     "metadata": {},
     "output_type": "execute_result"
    }
   ],
   "source": [
    "loaded_model_2 = LinearRegressionModelV1()\n",
    "loaded_model_3 = LinearRegressionModelV2()\n",
    "\n",
    "loaded_model_2.load_state_dict(torch.load(f=MODEL_SAVE_PATH_1))\n",
    "loaded_model_3.load_state_dict(torch.load(f=MODEL_SAVE_PATH_2))"
   ]
  },
  {
   "cell_type": "code",
   "execution_count": 46,
   "metadata": {},
   "outputs": [
    {
     "data": {
      "text/plain": [
       "tensor([[True],\n",
       "        [True],\n",
       "        [True],\n",
       "        [True],\n",
       "        [True],\n",
       "        [True],\n",
       "        [True],\n",
       "        [True],\n",
       "        [True],\n",
       "        [True],\n",
       "        [True],\n",
       "        [True],\n",
       "        [True],\n",
       "        [True],\n",
       "        [True],\n",
       "        [True],\n",
       "        [True],\n",
       "        [True],\n",
       "        [True],\n",
       "        [True]])"
      ]
     },
     "execution_count": 46,
     "metadata": {},
     "output_type": "execute_result"
    }
   ],
   "source": [
    "#comparamos modelos\n",
    "loaded_model_2.eval()\n",
    "\n",
    "with torch.inference_mode():\n",
    "    y_preds = model_2(X_test)\n",
    "    loaded_model_2_preds = loaded_model_2(X_test)\n",
    "\n",
    "y_preds == loaded_model_2_preds"
   ]
  },
  {
   "cell_type": "code",
   "execution_count": 47,
   "metadata": {},
   "outputs": [
    {
     "data": {
      "text/plain": [
       "tensor([[True],\n",
       "        [True],\n",
       "        [True],\n",
       "        [True],\n",
       "        [True],\n",
       "        [True],\n",
       "        [True],\n",
       "        [True],\n",
       "        [True],\n",
       "        [True],\n",
       "        [True],\n",
       "        [True],\n",
       "        [True],\n",
       "        [True],\n",
       "        [True],\n",
       "        [True],\n",
       "        [True],\n",
       "        [True],\n",
       "        [True],\n",
       "        [True]])"
      ]
     },
     "execution_count": 47,
     "metadata": {},
     "output_type": "execute_result"
    }
   ],
   "source": [
    "#comparamos modelos\n",
    "loaded_model_3.eval()\n",
    "\n",
    "with torch.inference_mode():\n",
    "    y_preds = model_3(X_test)\n",
    "    loaded_model_3_preds = loaded_model_3(X_test)\n",
    "\n",
    "y_preds == loaded_model_3_preds"
   ]
  }
 ],
 "metadata": {
  "kernelspec": {
   "display_name": "sonido",
   "language": "python",
   "name": "python3"
  },
  "language_info": {
   "codemirror_mode": {
    "name": "ipython",
    "version": 3
   },
   "file_extension": ".py",
   "mimetype": "text/x-python",
   "name": "python",
   "nbconvert_exporter": "python",
   "pygments_lexer": "ipython3",
   "version": "3.10.13"
  }
 },
 "nbformat": 4,
 "nbformat_minor": 2
}
