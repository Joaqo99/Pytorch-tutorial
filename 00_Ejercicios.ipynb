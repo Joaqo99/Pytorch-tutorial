{
 "cells": [
  {
   "cell_type": "code",
   "execution_count": 1,
   "metadata": {},
   "outputs": [],
   "source": [
    "import torch\n",
    "import numpy as np"
   ]
  },
  {
   "cell_type": "markdown",
   "metadata": {},
   "source": [
    "2) Create a random tensor with shape (7, 7)."
   ]
  },
  {
   "cell_type": "code",
   "execution_count": 3,
   "metadata": {},
   "outputs": [
    {
     "data": {
      "text/plain": [
       "tensor([[0.0693, 0.3347, 0.2883, 0.0195, 0.4345, 0.8370, 0.2133],\n",
       "        [0.7304, 0.5884, 0.1151, 0.2958, 0.8762, 0.6911, 0.0433],\n",
       "        [0.1316, 0.8844, 0.5674, 0.5062, 0.1734, 0.9006, 0.6271],\n",
       "        [0.9122, 0.5764, 0.6322, 0.9352, 0.8124, 0.5017, 0.1298],\n",
       "        [0.4975, 0.5586, 0.5060, 0.3503, 0.3933, 0.2220, 0.7972],\n",
       "        [0.6592, 0.6655, 0.5403, 0.0233, 0.3556, 0.7609, 0.9994],\n",
       "        [0.7837, 0.5845, 0.2428, 0.5882, 0.7789, 0.5314, 0.1764]])"
      ]
     },
     "execution_count": 3,
     "metadata": {},
     "output_type": "execute_result"
    }
   ],
   "source": [
    "rt1 = torch.rand(7, 7)\n",
    "rt1"
   ]
  },
  {
   "cell_type": "markdown",
   "metadata": {},
   "source": [
    "3) Perform a matrix multiplication on the tensor from 2 with another random tensor with shape (1, 7) (hint: you may have to transpose the second tensor)."
   ]
  },
  {
   "cell_type": "code",
   "execution_count": 4,
   "metadata": {},
   "outputs": [
    {
     "name": "stdout",
     "output_type": "stream",
     "text": [
      "tensor([[0.2464, 0.3233, 0.8399, 0.6543, 0.2094, 0.7031, 0.0667]])\n",
      "torch.Size([7, 7]) torch.Size([1, 7])\n"
     ]
    }
   ],
   "source": [
    "rt2 = torch.rand(1, 7)\n",
    "print(rt2)\n",
    "print(rt1.shape, rt2.shape)"
   ]
  },
  {
   "cell_type": "code",
   "execution_count": 5,
   "metadata": {},
   "outputs": [
    {
     "data": {
      "text/plain": [
       "tensor([[1.0738],\n",
       "        [1.3326],\n",
       "        [1.8374],\n",
       "        [2.0854],\n",
       "        [1.2490],\n",
       "        [1.5227],\n",
       "        [1.5193]])"
      ]
     },
     "execution_count": 5,
     "metadata": {},
     "output_type": "execute_result"
    }
   ],
   "source": [
    "matrix_mult = torch.matmul(rt1, rt2.T)\n",
    "matrix_mult"
   ]
  },
  {
   "cell_type": "markdown",
   "metadata": {},
   "source": [
    "4) Set the random seed to 0 and do exercises 2 & 3 over again."
   ]
  },
  {
   "cell_type": "code",
   "execution_count": 6,
   "metadata": {},
   "outputs": [
    {
     "name": "stdout",
     "output_type": "stream",
     "text": [
      "random tensor 3: tensor([[0.4963, 0.7682, 0.0885, 0.1320, 0.3074, 0.6341, 0.4901],\n",
      "        [0.8964, 0.4556, 0.6323, 0.3489, 0.4017, 0.0223, 0.1689],\n",
      "        [0.2939, 0.5185, 0.6977, 0.8000, 0.1610, 0.2823, 0.6816],\n",
      "        [0.9152, 0.3971, 0.8742, 0.4194, 0.5529, 0.9527, 0.0362],\n",
      "        [0.1852, 0.3734, 0.3051, 0.9320, 0.1759, 0.2698, 0.1507],\n",
      "        [0.0317, 0.2081, 0.9298, 0.7231, 0.7423, 0.5263, 0.2437],\n",
      "        [0.5846, 0.0332, 0.1387, 0.2422, 0.8155, 0.7932, 0.2783]])\n",
      "random tensor 4: tensor([[0.4963, 0.7682, 0.0885, 0.1320, 0.3074, 0.6341, 0.4901]])\n",
      "Matrix multiplication: tensor([[1.0738],\n",
      "        [1.3326],\n",
      "        [1.8374],\n",
      "        [2.0854],\n",
      "        [1.2490],\n",
      "        [1.5227],\n",
      "        [1.5193]])\n"
     ]
    }
   ],
   "source": [
    "RANDOM_SEED = 0\n",
    "\n",
    "torch.manual_seed(RANDOM_SEED)\n",
    "rt3 = torch.rand(7, 7)\n",
    "\n",
    "torch.manual_seed(RANDOM_SEED)\n",
    "rt4 = torch.rand(1, 7)\n",
    "\n",
    "matrix_mult = torch.matmul(rt1, rt2.T)\n",
    "\n",
    "print(f\"random tensor 3: {rt3}\")\n",
    "print(f\"random tensor 4: {rt4}\")\n",
    "print(f\"Matrix multiplication: {matrix_mult}\")"
   ]
  },
  {
   "cell_type": "markdown",
   "metadata": {},
   "source": [
    "5) Speaking of random seeds, we saw how to set it with torch.manual_seed() but is there a GPU equivalent? (hint: you'll need to look into the documentation for torch.cuda for this one). If there is, set the GPU random seed to 1234."
   ]
  },
  {
   "cell_type": "markdown",
   "metadata": {},
   "source": [
    "6) Create two random tensors of shape (2, 3) and send them both to the GPU (you'll need access to a GPU for this). Set torch.manual_seed(1234) when creating the tensors (this doesn't have to be the GPU random seed)."
   ]
  },
  {
   "cell_type": "markdown",
   "metadata": {},
   "source": [
    "7) Perform a matrix multiplication on the tensors you created in 6 (again, you may have to adjust the shapes of one of the tensors)."
   ]
  },
  {
   "cell_type": "markdown",
   "metadata": {},
   "source": [
    "8) Find the maximum and minimum values of the output of 7."
   ]
  },
  {
   "cell_type": "markdown",
   "metadata": {},
   "source": [
    "9) Find the maximum and minimum index values of the output of 7."
   ]
  },
  {
   "cell_type": "markdown",
   "metadata": {},
   "source": [
    "10) Make a random tensor with shape (1, 1, 1, 10) and then create a new tensor with all the 1 dimensions removed to be left with a tensor of shape (10). Set the seed to 7 when you create it and print out the first tensor and it's shape as well as the second tensor and it's shape."
   ]
  },
  {
   "cell_type": "code",
   "execution_count": 9,
   "metadata": {},
   "outputs": [
    {
     "name": "stdout",
     "output_type": "stream",
     "text": [
      "tensor([[[[0.5349, 0.1988, 0.6592, 0.6569, 0.2328, 0.4251, 0.2071, 0.6297,\n",
      "           0.3653, 0.8513]]]])\n",
      "torch.Size([1, 1, 1, 10]) torch.Size([10])\n"
     ]
    }
   ],
   "source": [
    "RANDOM_SEED = 7\n",
    "\n",
    "torch.manual_seed(RANDOM_SEED)\n",
    "rt10 = torch.rand(1, 1, 1, 10)\n",
    "\n",
    "rt10_squeezed = rt10.squeeze()\n",
    "\n",
    "print(rt10)\n",
    "print(rt10.shape, rt10_squeezed.shape)"
   ]
  },
  {
   "cell_type": "markdown",
   "metadata": {},
   "source": [
    "### Linealidad\n",
    "\n",
    "\\begin{equation}\n",
    "    y = x \\cdot A^{T} + b\n",
    "\\end{equation}"
   ]
  },
  {
   "cell_type": "code",
   "execution_count": 15,
   "metadata": {},
   "outputs": [
    {
     "name": "stdout",
     "output_type": "stream",
     "text": [
      "Input shape: torch.Size([1])\n",
      "\n",
      "Output:\n",
      "tensor([ 0.9663,  0.3432,  0.3530,  1.8002, -0.9527], grad_fn=<ViewBackward0>)\n",
      "\n",
      "Output shape: torch.Size([5])\n"
     ]
    }
   ],
   "source": [
    "tensor_A = torch.tensor([1], dtype=torch.float32)\n",
    "\n",
    "torch.manual_seed(42)\n",
    "# This uses matrix multiplication\n",
    "linear = torch.nn.Linear(in_features=1, # in_features = matches inner dimension of input \n",
    "                         out_features=5) # out_features = describes outer value \n",
    "x = tensor_A\n",
    "output = linear(x)\n",
    "print(f\"Input shape: {x.shape}\\n\")\n",
    "print(f\"Output:\\n{output}\\n\\nOutput shape: {output.shape}\")"
   ]
  },
  {
   "cell_type": "code",
   "execution_count": null,
   "metadata": {},
   "outputs": [],
   "source": []
  }
 ],
 "metadata": {
  "kernelspec": {
   "display_name": "base",
   "language": "python",
   "name": "python3"
  },
  "language_info": {
   "codemirror_mode": {
    "name": "ipython",
    "version": 3
   },
   "file_extension": ".py",
   "mimetype": "text/x-python",
   "name": "python",
   "nbconvert_exporter": "python",
   "pygments_lexer": "ipython3",
   "version": "3.10.9"
  }
 },
 "nbformat": 4,
 "nbformat_minor": 2
}
