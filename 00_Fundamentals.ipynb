{
 "cells": [
  {
   "cell_type": "code",
   "execution_count": 2,
   "metadata": {},
   "outputs": [],
   "source": [
    "import torch\n",
    "import pandas as pd\n",
    "import numpy as np\n",
    "from matplotlib import pyplot as plt"
   ]
  },
  {
   "cell_type": "markdown",
   "metadata": {},
   "source": [
    "## Tensores\n",
    "\n",
    "Los tensores son una forma de representar datos numericos, pueden ser multidimensionales"
   ]
  },
  {
   "cell_type": "code",
   "execution_count": 18,
   "metadata": {},
   "outputs": [
    {
     "name": "stdout",
     "output_type": "stream",
     "text": [
      "tensor(7)\n",
      "0\n",
      "torch.Size([])\n",
      "7\n"
     ]
    }
   ],
   "source": [
    "#escalares\n",
    "\n",
    "scalar  = torch.tensor(7)\n",
    "print(scalar)\n",
    "print(scalar.ndim)\n",
    "print(scalar.shape)\n",
    "print(scalar.item())"
   ]
  },
  {
   "cell_type": "code",
   "execution_count": 8,
   "metadata": {},
   "outputs": [],
   "source": [
    "#vectores\n",
    "vector = torch.tensor([7, 7])\n",
    "vector"
   ]
  },
  {
   "cell_type": "code",
   "execution_count": 9,
   "metadata": {},
   "outputs": [
    {
     "data": {
      "text/plain": [
       "tensor([[ 7,  8],\n",
       "        [ 9, 10]])"
      ]
     },
     "execution_count": 9,
     "metadata": {},
     "output_type": "execute_result"
    }
   ],
   "source": [
    "#matriz\n",
    "\n",
    "MATRIX = torch.tensor([[7, 8], [9, 10]])\n",
    "MATRIX"
   ]
  },
  {
   "cell_type": "code",
   "execution_count": 10,
   "metadata": {},
   "outputs": [
    {
     "data": {
      "text/plain": [
       "tensor([[[1, 2, 3],\n",
       "         [4, 5, 6],\n",
       "         [7, 8, 9]]])"
      ]
     },
     "execution_count": 10,
     "metadata": {},
     "output_type": "execute_result"
    }
   ],
   "source": [
    "TENSOR = torch.tensor([[[1, 2, 3], \n",
    "                        [4, 5, 6], \n",
    "                        [7, 8, 9]]])\n",
    "\n",
    "TENSOR"
   ]
  },
  {
   "cell_type": "code",
   "execution_count": 11,
   "metadata": {},
   "outputs": [
    {
     "data": {
      "text/plain": [
       "3"
      ]
     },
     "execution_count": 11,
     "metadata": {},
     "output_type": "execute_result"
    }
   ],
   "source": [
    "TENSOR.ndim"
   ]
  },
  {
   "cell_type": "code",
   "execution_count": 12,
   "metadata": {},
   "outputs": [
    {
     "data": {
      "text/plain": [
       "torch.Size([1, 3, 3])"
      ]
     },
     "execution_count": 12,
     "metadata": {},
     "output_type": "execute_result"
    }
   ],
   "source": [
    "TENSOR.shape"
   ]
  },
  {
   "cell_type": "code",
   "execution_count": 16,
   "metadata": {},
   "outputs": [
    {
     "data": {
      "text/plain": [
       "torch.Size([1, 3, 2])"
      ]
     },
     "execution_count": 16,
     "metadata": {},
     "output_type": "execute_result"
    }
   ],
   "source": [
    "TENSOR_1 = torch.tensor([[[1, 2], [2, 3], [3, 4]]])\n",
    "TENSOR_1.shape"
   ]
  },
  {
   "cell_type": "markdown",
   "metadata": {},
   "source": [
    "### Tensores aleatorios\n",
    "\n",
    "Los tensores aleatorios son importantes porque la manera de aprender de una red neuronal empieza con tensores compuestos de numeros aleatorios y los va ajustando para representar mejor la información"
   ]
  },
  {
   "cell_type": "code",
   "execution_count": 22,
   "metadata": {},
   "outputs": [
    {
     "data": {
      "text/plain": [
       "tensor([[0.7878, 0.7570, 0.0812, 0.1580],\n",
       "        [0.3258, 0.9054, 0.5252, 0.4182],\n",
       "        [0.5502, 0.1727, 0.6104, 0.6740]])"
      ]
     },
     "execution_count": 22,
     "metadata": {},
     "output_type": "execute_result"
    }
   ],
   "source": [
    "random_tensor = torch.rand(3, 4)\n",
    "random_tensor"
   ]
  },
  {
   "cell_type": "code",
   "execution_count": 23,
   "metadata": {},
   "outputs": [],
   "source": [
    "#crear un tensor aleatorio con forma similar al tensor de una imagen\n",
    "\n",
    "random_image_size_tensor = torch.rand(size=(224, 224, 3)) #height, width, colour channels (R, G, B)"
   ]
  },
  {
   "cell_type": "markdown",
   "metadata": {},
   "source": [
    "### Ceros y unos"
   ]
  },
  {
   "cell_type": "code",
   "execution_count": 25,
   "metadata": {},
   "outputs": [
    {
     "data": {
      "text/plain": [
       "tensor([[0., 0., 0., 0.],\n",
       "        [0., 0., 0., 0.],\n",
       "        [0., 0., 0., 0.]])"
      ]
     },
     "execution_count": 25,
     "metadata": {},
     "output_type": "execute_result"
    }
   ],
   "source": [
    "zeros = torch.zeros(size=(3, 4))\n",
    "zeros"
   ]
  },
  {
   "cell_type": "code",
   "execution_count": 26,
   "metadata": {},
   "outputs": [
    {
     "data": {
      "text/plain": [
       "tensor([[1., 1., 1., 1.],\n",
       "        [1., 1., 1., 1.],\n",
       "        [1., 1., 1., 1.]])"
      ]
     },
     "execution_count": 26,
     "metadata": {},
     "output_type": "execute_result"
    }
   ],
   "source": [
    "ones = torch.ones(size=(3, 4))\n",
    "ones"
   ]
  },
  {
   "cell_type": "code",
   "execution_count": 27,
   "metadata": {},
   "outputs": [
    {
     "data": {
      "text/plain": [
       "torch.float32"
      ]
     },
     "execution_count": 27,
     "metadata": {},
     "output_type": "execute_result"
    }
   ],
   "source": [
    "ones.dtype"
   ]
  },
  {
   "cell_type": "markdown",
   "metadata": {},
   "source": [
    "### Rango de tensores"
   ]
  },
  {
   "cell_type": "code",
   "execution_count": 30,
   "metadata": {},
   "outputs": [
    {
     "data": {
      "text/plain": [
       "tensor([ 1,  2,  3,  4,  5,  6,  7,  8,  9, 10])"
      ]
     },
     "execution_count": 30,
     "metadata": {},
     "output_type": "execute_result"
    }
   ],
   "source": [
    "one_to_ten = torch.arange(1, 11)\n",
    "one_to_ten"
   ]
  },
  {
   "cell_type": "code",
   "execution_count": 31,
   "metadata": {},
   "outputs": [
    {
     "data": {
      "text/plain": [
       "tensor([0, 0, 0, 0, 0, 0, 0, 0, 0, 0])"
      ]
     },
     "execution_count": 31,
     "metadata": {},
     "output_type": "execute_result"
    }
   ],
   "source": [
    "ten_zeros = torch.zeros_like(one_to_ten)\n",
    "ten_zeros"
   ]
  },
  {
   "cell_type": "markdown",
   "metadata": {},
   "source": [
    "### Tensor datatypes\n",
    "\n",
    "Para trabajar con diferentes tensores, algunas operaciones requieren que todos los tensores posean el mismo tipo de dato y ciertos shapes"
   ]
  },
  {
   "cell_type": "code",
   "execution_count": 32,
   "metadata": {},
   "outputs": [
    {
     "name": "stdout",
     "output_type": "stream",
     "text": [
      "tensor([3., 6., 9.])\n",
      "torch.float32\n"
     ]
    }
   ],
   "source": [
    "float_32_tensor = torch.tensor([3.0, 6.0, 9.0])\n",
    "print(float_32_tensor)\n",
    "print(float_32_tensor.dtype)"
   ]
  },
  {
   "cell_type": "code",
   "execution_count": 35,
   "metadata": {},
   "outputs": [
    {
     "data": {
      "text/plain": [
       "tensor([3., 6., 9.], dtype=torch.float16)"
      ]
     },
     "execution_count": 35,
     "metadata": {},
     "output_type": "execute_result"
    }
   ],
   "source": [
    "float_16_tensor = float_32_tensor.type(torch.float16)\n",
    "float_16_tensor"
   ]
  },
  {
   "cell_type": "markdown",
   "metadata": {},
   "source": [
    "### Operaciones de tensores\n",
    "- Suma\n",
    "- Resta\n",
    "- Multiplicación (elemento a elemento)\n",
    "- División\n",
    "- Multiplicación de matrices"
   ]
  },
  {
   "cell_type": "code",
   "execution_count": 36,
   "metadata": {},
   "outputs": [
    {
     "data": {
      "text/plain": [
       "tensor([11, 12, 13])"
      ]
     },
     "execution_count": 36,
     "metadata": {},
     "output_type": "execute_result"
    }
   ],
   "source": [
    "#suma\n",
    "tensor = torch.tensor([1, 2, 3])\n",
    "tensor + 10"
   ]
  },
  {
   "cell_type": "code",
   "execution_count": 38,
   "metadata": {},
   "outputs": [
    {
     "name": "stdout",
     "output_type": "stream",
     "text": [
      "tensor([10, 20, 30])\n"
     ]
    },
    {
     "data": {
      "text/plain": [
       "tensor([10, 20, 30])"
      ]
     },
     "execution_count": 38,
     "metadata": {},
     "output_type": "execute_result"
    }
   ],
   "source": [
    "#multiplicación\n",
    "print(tensor * 10)\n",
    "torch.mul(tensor, 10)"
   ]
  },
  {
   "cell_type": "code",
   "execution_count": 39,
   "metadata": {},
   "outputs": [
    {
     "data": {
      "text/plain": [
       "tensor(14)"
      ]
     },
     "execution_count": 39,
     "metadata": {},
     "output_type": "execute_result"
    }
   ],
   "source": [
    "#multiplicación de matrices\n",
    "torch.matmul(tensor, tensor)"
   ]
  },
  {
   "cell_type": "code",
   "execution_count": 41,
   "metadata": {},
   "outputs": [
    {
     "ename": "RuntimeError",
     "evalue": "mat1 and mat2 shapes cannot be multiplied (3x2 and 3x2)",
     "output_type": "error",
     "traceback": [
      "\u001b[1;31m---------------------------------------------------------------------------\u001b[0m",
      "\u001b[1;31mRuntimeError\u001b[0m                              Traceback (most recent call last)",
      "Cell \u001b[1;32mIn[41], line 4\u001b[0m\n\u001b[0;32m      1\u001b[0m tensor_A \u001b[38;5;241m=\u001b[39m torch\u001b[38;5;241m.\u001b[39mtensor([[\u001b[38;5;241m1\u001b[39m, \u001b[38;5;241m2\u001b[39m], [\u001b[38;5;241m3\u001b[39m, \u001b[38;5;241m4\u001b[39m], [\u001b[38;5;241m5\u001b[39m, \u001b[38;5;241m6\u001b[39m]])\n\u001b[0;32m      2\u001b[0m tensor_B \u001b[38;5;241m=\u001b[39m torch\u001b[38;5;241m.\u001b[39mtensor([[\u001b[38;5;241m7\u001b[39m, \u001b[38;5;241m10\u001b[39m], [\u001b[38;5;241m8\u001b[39m, \u001b[38;5;241m11\u001b[39m], [\u001b[38;5;241m9\u001b[39m, \u001b[38;5;241m12\u001b[39m]])\n\u001b[1;32m----> 4\u001b[0m \u001b[43mtorch\u001b[49m\u001b[38;5;241;43m.\u001b[39;49m\u001b[43mmatmul\u001b[49m\u001b[43m(\u001b[49m\u001b[43mtensor_A\u001b[49m\u001b[43m,\u001b[49m\u001b[43m \u001b[49m\u001b[43mtensor_B\u001b[49m\u001b[43m)\u001b[49m\n",
      "\u001b[1;31mRuntimeError\u001b[0m: mat1 and mat2 shapes cannot be multiplied (3x2 and 3x2)"
     ]
    }
   ],
   "source": [
    "tensor_A = torch.tensor([[1, 2], [3, 4], [5, 6]])\n",
    "tensor_B = torch.tensor([[7, 10], [8, 11], [9, 12]])\n",
    "\n",
    "torch.matmul(tensor_A, tensor_B)"
   ]
  },
  {
   "cell_type": "code",
   "execution_count": 42,
   "metadata": {},
   "outputs": [
    {
     "data": {
      "text/plain": [
       "tensor([[ 7,  8,  9],\n",
       "        [10, 11, 12]])"
      ]
     },
     "execution_count": 42,
     "metadata": {},
     "output_type": "execute_result"
    }
   ],
   "source": [
    "tensor_BT = tensor_B.T\n",
    "tensor_BT"
   ]
  },
  {
   "cell_type": "code",
   "execution_count": 43,
   "metadata": {},
   "outputs": [
    {
     "data": {
      "text/plain": [
       "tensor([[ 27,  30,  33],\n",
       "        [ 61,  68,  75],\n",
       "        [ 95, 106, 117]])"
      ]
     },
     "execution_count": 43,
     "metadata": {},
     "output_type": "execute_result"
    }
   ],
   "source": [
    "torch.matmul(tensor_A, tensor_BT)"
   ]
  },
  {
   "cell_type": "markdown",
   "metadata": {},
   "source": [
    "### Buscando min, max, mean, etc \n",
    "\n",
    "Se necesita que el tipo de dato sea float o complejo"
   ]
  },
  {
   "cell_type": "code",
   "execution_count": 4,
   "metadata": {},
   "outputs": [
    {
     "name": "stdout",
     "output_type": "stream",
     "text": [
      "tensor([[[3.6018e-01, 2.4264e-01, 6.4117e-01, 7.2993e-01, 8.4728e-01,\n",
      "          9.4291e-01, 5.9452e-01, 4.3601e-01, 9.7583e-01, 8.4237e-02],\n",
      "         [3.8716e-01, 7.1829e-01, 9.6179e-01, 8.8213e-01, 7.6020e-03,\n",
      "          1.3200e-01, 5.1091e-01, 1.7675e-01, 8.9091e-01, 7.1787e-01],\n",
      "         [3.8871e-01, 7.5153e-01, 6.1966e-01, 5.2148e-01, 3.1831e-01,\n",
      "          5.2131e-01, 7.1347e-01, 7.7514e-01, 5.7278e-01, 2.6044e-01],\n",
      "         [5.2058e-01, 5.9357e-01, 8.0003e-01, 5.9735e-01, 8.2489e-01,\n",
      "          6.7025e-01, 2.2484e-01, 5.4273e-01, 9.2103e-01, 4.1208e-01],\n",
      "         [5.1388e-01, 8.1049e-01, 4.5766e-01, 4.8093e-01, 9.0398e-01,\n",
      "          9.0111e-01, 3.6381e-01, 4.0150e-01, 8.0428e-01, 2.9183e-01],\n",
      "         [3.0702e-01, 4.1226e-01, 2.2660e-01, 1.8326e-02, 2.9149e-01,\n",
      "          9.6391e-01, 3.8313e-01, 9.9326e-01, 5.5633e-01, 1.0697e-03],\n",
      "         [3.4181e-01, 3.8527e-01, 7.2154e-01, 9.0535e-01, 7.0501e-01,\n",
      "          9.2822e-02, 8.3624e-01, 5.8670e-01, 8.9837e-01, 6.5696e-01],\n",
      "         [9.3191e-01, 7.0836e-01, 7.5504e-01, 5.6092e-01, 7.4465e-02,\n",
      "          2.0980e-01, 7.4421e-01, 5.3529e-01, 3.5260e-01, 1.3932e-02],\n",
      "         [6.9748e-01, 4.8418e-01, 8.6822e-01, 8.2518e-01, 9.1321e-01,\n",
      "          8.1502e-01, 4.4116e-01, 4.9074e-01, 9.2229e-01, 5.0495e-01],\n",
      "         [4.7380e-01, 2.1201e-02, 4.8003e-01, 9.7369e-01, 9.6065e-01,\n",
      "          9.9447e-01, 1.0902e-01, 5.9741e-01, 3.1586e-01, 2.4893e-01]],\n",
      "\n",
      "        [[5.4797e-01, 9.0375e-01, 5.3228e-01, 2.0188e-01, 5.0553e-01,\n",
      "          5.6813e-01, 8.7463e-01, 5.5093e-01, 7.7336e-01, 6.9477e-01],\n",
      "         [6.8992e-01, 4.3724e-01, 1.7533e-01, 4.2330e-01, 7.7865e-01,\n",
      "          7.0627e-02, 4.5793e-01, 8.4563e-01, 7.7186e-01, 7.7635e-01],\n",
      "         [1.3113e-01, 5.5081e-01, 4.4736e-01, 4.3380e-02, 9.4841e-01,\n",
      "          3.0803e-01, 7.5687e-01, 4.4278e-01, 9.7236e-01, 8.9816e-02],\n",
      "         [6.0402e-01, 8.3446e-01, 8.9277e-01, 1.3255e-01, 2.2390e-03,\n",
      "          3.7473e-01, 2.4314e-01, 7.9412e-02, 3.2633e-01, 6.2930e-02],\n",
      "         [6.1871e-01, 9.6774e-02, 9.7107e-01, 3.4744e-01, 2.1021e-01,\n",
      "          7.5734e-01, 8.3848e-01, 4.1663e-01, 8.9284e-01, 6.6086e-01],\n",
      "         [4.3702e-01, 6.2445e-02, 6.0809e-01, 2.6456e-01, 3.8649e-02,\n",
      "          8.1325e-01, 4.8863e-01, 4.5189e-03, 9.0200e-01, 4.9197e-01],\n",
      "         [9.3236e-03, 4.8085e-01, 2.9960e-01, 6.8151e-01, 1.0791e-02,\n",
      "          8.0185e-01, 2.8033e-01, 9.9642e-01, 3.2149e-01, 9.5678e-01],\n",
      "         [3.9378e-01, 8.2921e-01, 8.1989e-01, 9.3625e-01, 9.3552e-01,\n",
      "          3.4909e-02, 2.9523e-01, 3.6614e-01, 3.3681e-01, 1.4119e-01],\n",
      "         [1.0899e-01, 1.2772e-01, 8.1327e-01, 9.4741e-02, 2.2428e-01,\n",
      "          6.0300e-01, 5.0510e-01, 5.5511e-01, 8.0917e-01, 7.3853e-01],\n",
      "         [5.4523e-01, 6.7321e-01, 9.2170e-01, 9.2093e-01, 5.8940e-02,\n",
      "          9.9160e-01, 7.2017e-01, 2.9082e-01, 6.2176e-01, 4.8431e-01]],\n",
      "\n",
      "        [[3.9815e-01, 1.8061e-02, 8.6429e-01, 6.2103e-02, 9.0094e-01,\n",
      "          7.5145e-01, 7.8289e-01, 7.6973e-01, 9.1014e-01, 8.2300e-01],\n",
      "         [6.6621e-01, 6.7638e-01, 9.6623e-01, 6.6990e-02, 6.6574e-01,\n",
      "          2.9047e-01, 3.4366e-02, 6.0423e-01, 1.1928e-02, 5.3296e-01],\n",
      "         [7.0883e-01, 3.2750e-01, 5.5735e-01, 7.0254e-01, 9.4830e-01,\n",
      "          8.8479e-01, 9.4075e-01, 4.3205e-01, 3.6640e-01, 9.4737e-01],\n",
      "         [5.8717e-01, 7.2667e-01, 4.0907e-01, 5.9828e-01, 6.3149e-01,\n",
      "          8.9605e-01, 4.4180e-01, 2.9447e-01, 9.5793e-01, 3.7936e-02],\n",
      "         [3.6060e-01, 7.4371e-01, 4.7560e-01, 2.8453e-01, 9.7268e-01,\n",
      "          1.0965e-01, 2.7793e-01, 9.7345e-01, 5.4372e-02, 1.4993e-01],\n",
      "         [3.1208e-01, 4.5975e-01, 4.7594e-01, 9.9277e-01, 8.4652e-02,\n",
      "          4.8102e-01, 1.9169e-04, 6.1041e-02, 4.5062e-01, 2.2546e-01],\n",
      "         [8.0527e-02, 2.2235e-01, 6.7438e-01, 1.9917e-01, 3.7674e-01,\n",
      "          8.0673e-01, 5.1335e-01, 5.9963e-01, 8.8940e-02, 8.0555e-01],\n",
      "         [3.9489e-01, 1.6517e-01, 2.4725e-01, 7.1879e-01, 9.7119e-01,\n",
      "          4.9814e-01, 7.9781e-01, 8.5784e-02, 1.3626e-01, 3.3255e-02],\n",
      "         [1.2316e-01, 6.7374e-01, 9.9363e-01, 8.2036e-01, 8.1436e-01,\n",
      "          1.0271e-01, 3.1015e-02, 2.5681e-01, 3.7700e-01, 2.8506e-02],\n",
      "         [7.4256e-01, 5.6199e-01, 8.5603e-01, 5.6585e-01, 8.3867e-01,\n",
      "          4.1531e-01, 5.6015e-01, 3.7995e-01, 6.2410e-01, 4.6935e-01]],\n",
      "\n",
      "        [[2.3368e-01, 8.3819e-01, 5.8054e-01, 4.7401e-01, 2.8790e-01,\n",
      "          9.4213e-01, 3.4772e-01, 3.8257e-01, 5.0579e-01, 9.5110e-01],\n",
      "         [6.7414e-01, 6.3650e-01, 7.4265e-01, 2.3990e-01, 3.9411e-01,\n",
      "          7.6038e-01, 1.9751e-01, 7.8714e-02, 9.3099e-01, 4.5849e-01],\n",
      "         [8.8021e-01, 6.4403e-01, 9.0066e-01, 8.8410e-02, 9.3798e-01,\n",
      "          9.6406e-01, 1.2799e-01, 4.6572e-01, 4.8833e-01, 7.3033e-01],\n",
      "         [2.1004e-01, 3.5867e-01, 4.9750e-01, 9.4489e-01, 4.5007e-01,\n",
      "          8.5031e-01, 2.5711e-01, 5.5337e-01, 9.9330e-01, 1.7585e-01],\n",
      "         [4.1158e-01, 7.6189e-01, 3.5815e-01, 7.5928e-01, 7.3939e-01,\n",
      "          4.3506e-02, 5.1327e-01, 5.5231e-01, 1.0003e-01, 2.1964e-01],\n",
      "         [6.4182e-02, 6.1960e-01, 6.3587e-01, 2.7604e-02, 5.8574e-01,\n",
      "          2.2291e-01, 2.9072e-01, 2.4086e-01, 6.0705e-01, 3.5764e-01],\n",
      "         [8.5066e-01, 5.2042e-01, 5.1879e-01, 7.1620e-01, 4.3631e-01,\n",
      "          1.5073e-02, 9.3818e-01, 8.3357e-01, 7.3259e-01, 3.1058e-01],\n",
      "         [5.5010e-01, 1.9410e-01, 5.0652e-01, 8.8058e-01, 5.0753e-02,\n",
      "          2.0397e-01, 4.2808e-01, 3.6256e-01, 1.1034e-01, 9.5353e-01],\n",
      "         [9.4002e-01, 8.1337e-01, 3.7493e-01, 2.8957e-01, 6.1071e-01,\n",
      "          5.3748e-01, 3.9701e-01, 8.0233e-01, 8.0408e-01, 6.2143e-01],\n",
      "         [6.2714e-01, 7.0006e-01, 1.1283e-02, 5.3822e-01, 4.4120e-02,\n",
      "          3.3473e-02, 6.9621e-01, 6.1182e-01, 4.9186e-01, 3.9183e-01]],\n",
      "\n",
      "        [[3.8893e-03, 4.1306e-03, 9.1857e-02, 3.7502e-01, 2.8670e-01,\n",
      "          5.4084e-01, 1.2735e-01, 9.5715e-01, 7.2291e-01, 3.8640e-01],\n",
      "         [3.6664e-01, 9.0098e-01, 8.1483e-01, 6.2302e-01, 3.2298e-01,\n",
      "          6.5500e-01, 7.1299e-01, 7.1377e-01, 9.2396e-01, 9.1229e-01],\n",
      "         [4.2629e-01, 6.0376e-01, 4.3831e-01, 3.4180e-02, 9.8226e-02,\n",
      "          3.7943e-01, 9.8190e-01, 3.1034e-01, 6.4538e-01, 6.0802e-01],\n",
      "         [3.1781e-01, 1.4174e-01, 2.5837e-01, 1.8388e-01, 9.8614e-02,\n",
      "          6.4813e-01, 8.3002e-01, 1.5325e-01, 7.9913e-01, 2.1071e-01],\n",
      "         [9.1320e-01, 5.7790e-01, 7.2792e-01, 9.7004e-01, 6.1750e-01,\n",
      "          8.6115e-01, 5.4082e-02, 9.8277e-01, 5.2193e-01, 6.3535e-01],\n",
      "         [7.1877e-01, 2.2125e-01, 7.2394e-01, 4.6604e-01, 8.4772e-01,\n",
      "          9.3318e-01, 6.5534e-01, 8.7097e-01, 7.4006e-02, 1.4614e-01],\n",
      "         [7.7202e-01, 1.3594e-01, 9.2139e-01, 6.3443e-02, 8.1606e-01,\n",
      "          4.7674e-01, 9.7395e-01, 8.4309e-01, 1.6553e-01, 6.6779e-01],\n",
      "         [7.2889e-01, 4.4352e-01, 5.9013e-01, 4.3715e-01, 9.4725e-02,\n",
      "          3.2384e-01, 2.1840e-01, 2.4913e-01, 4.7829e-01, 9.2471e-01],\n",
      "         [5.5958e-01, 2.7613e-01, 9.7775e-01, 9.8699e-01, 6.1774e-01,\n",
      "          5.3656e-01, 3.1313e-02, 6.6652e-01, 6.6911e-01, 5.9391e-02],\n",
      "         [3.3871e-01, 7.2076e-01, 3.1546e-01, 4.5801e-01, 5.2245e-01,\n",
      "          7.7688e-01, 7.0414e-01, 1.5257e-01, 8.1368e-01, 2.9590e-01]],\n",
      "\n",
      "        [[5.4116e-01, 8.0545e-01, 1.2683e-01, 5.7077e-01, 4.4308e-01,\n",
      "          1.4434e-02, 7.0301e-01, 7.5921e-01, 4.4241e-01, 6.9937e-01],\n",
      "         [1.0093e-01, 5.5771e-01, 2.7795e-01, 9.7672e-01, 1.2733e-01,\n",
      "          5.6000e-01, 8.4583e-01, 8.1626e-01, 7.5935e-02, 2.3742e-01],\n",
      "         [7.4124e-01, 8.3511e-01, 4.5609e-02, 5.9197e-01, 9.9029e-01,\n",
      "          6.9221e-01, 5.1585e-01, 9.1068e-01, 2.8938e-01, 7.8576e-01],\n",
      "         [8.9893e-01, 5.7712e-01, 3.6922e-01, 8.3833e-01, 9.9087e-01,\n",
      "          2.1159e-01, 9.4485e-01, 7.8775e-01, 5.3990e-01, 9.1665e-01],\n",
      "         [6.6020e-01, 1.4125e-03, 8.7403e-01, 2.4895e-01, 3.9774e-01,\n",
      "          1.5829e-01, 5.4022e-01, 5.0772e-01, 1.7309e-01, 3.9828e-01],\n",
      "         [3.7350e-01, 5.5664e-01, 8.0142e-01, 6.5483e-01, 5.9938e-01,\n",
      "          5.9667e-01, 1.2883e-01, 3.8301e-01, 3.7545e-01, 2.7062e-01],\n",
      "         [8.2406e-01, 8.8074e-01, 5.2827e-01, 9.4746e-01, 3.2332e-01,\n",
      "          5.5790e-01, 7.4402e-01, 4.7706e-01, 7.2372e-01, 9.8665e-01],\n",
      "         [9.5704e-01, 6.3509e-01, 5.8443e-01, 6.7791e-01, 9.1031e-02,\n",
      "          5.9049e-01, 5.8864e-01, 7.1266e-01, 4.6660e-01, 5.7398e-01],\n",
      "         [3.6370e-01, 3.4881e-01, 9.9332e-01, 6.5226e-01, 2.1924e-01,\n",
      "          4.8156e-01, 7.2048e-01, 7.1121e-01, 6.3628e-01, 8.2053e-01],\n",
      "         [3.5144e-01, 8.1082e-01, 9.2368e-01, 4.2243e-01, 4.6486e-01,\n",
      "          5.1896e-01, 9.5567e-01, 4.7641e-01, 7.7889e-01, 9.9513e-01]],\n",
      "\n",
      "        [[3.6860e-01, 8.6969e-01, 2.0394e-02, 2.6527e-01, 3.9463e-01,\n",
      "          5.4560e-01, 5.5331e-01, 8.7398e-01, 6.7221e-01, 6.3515e-01],\n",
      "         [3.4473e-01, 9.1264e-02, 8.4005e-01, 2.0054e-01, 1.7075e-01,\n",
      "          4.2809e-01, 7.1967e-01, 1.2173e-01, 2.6328e-01, 8.0090e-01],\n",
      "         [4.7644e-01, 9.9610e-01, 9.2608e-01, 6.9577e-01, 9.5518e-01,\n",
      "          2.0673e-01, 5.8780e-01, 3.6950e-01, 5.9670e-01, 2.9467e-01],\n",
      "         [2.7720e-01, 3.3656e-01, 8.2325e-01, 1.9131e-01, 6.0048e-02,\n",
      "          1.2991e-01, 6.2097e-02, 9.7814e-01, 6.8462e-01, 7.7448e-01],\n",
      "         [4.9993e-01, 7.4081e-01, 4.9775e-01, 3.5094e-01, 4.8382e-01,\n",
      "          4.8135e-01, 5.9033e-01, 6.3667e-02, 6.7112e-01, 1.7838e-01],\n",
      "         [4.7731e-01, 4.2491e-01, 1.1787e-02, 4.9850e-01, 9.3697e-01,\n",
      "          7.0234e-01, 6.0331e-01, 7.4493e-01, 8.4649e-01, 4.6302e-01],\n",
      "         [9.3166e-01, 3.7747e-01, 9.9426e-02, 4.0069e-01, 1.0519e-01,\n",
      "          4.1479e-01, 7.7249e-01, 2.0600e-01, 4.1673e-01, 2.1950e-01],\n",
      "         [9.0940e-01, 4.7799e-01, 9.8094e-01, 4.0865e-01, 5.0992e-01,\n",
      "          1.2947e-01, 7.3441e-01, 5.9174e-01, 2.8156e-01, 2.3367e-01],\n",
      "         [7.1149e-01, 1.6430e-01, 6.1427e-01, 9.0910e-03, 8.5849e-01,\n",
      "          2.1284e-01, 4.8959e-01, 7.7578e-01, 7.2042e-01, 8.1784e-02],\n",
      "         [7.3137e-01, 8.6078e-01, 1.0454e-01, 9.8644e-01, 1.8420e-01,\n",
      "          9.0397e-02, 2.0633e-01, 6.5643e-01, 5.8686e-02, 2.0924e-01]],\n",
      "\n",
      "        [[6.5421e-01, 2.0165e-01, 6.0721e-01, 6.4242e-01, 9.3131e-01,\n",
      "          4.1546e-01, 2.2417e-01, 5.0198e-01, 3.0443e-01, 2.0221e-01],\n",
      "         [7.6168e-01, 8.7884e-01, 9.7819e-01, 6.5577e-01, 6.6369e-01,\n",
      "          9.0560e-01, 5.5092e-02, 1.3598e-01, 5.5928e-01, 8.4105e-01],\n",
      "         [6.2607e-01, 2.0306e-01, 7.0818e-01, 3.9994e-01, 6.0577e-01,\n",
      "          5.5103e-01, 3.7255e-01, 1.3905e-01, 6.3701e-01, 4.4936e-01],\n",
      "         [7.6546e-01, 4.7891e-01, 1.2887e-01, 1.1138e-01, 9.5978e-01,\n",
      "          3.8515e-01, 7.0580e-01, 8.7265e-01, 8.3164e-01, 1.2779e-01],\n",
      "         [2.4166e-01, 4.6039e-01, 9.6404e-01, 4.8048e-01, 8.1539e-01,\n",
      "          2.6954e-01, 7.2982e-01, 2.0302e-01, 8.8730e-01, 8.8939e-02],\n",
      "         [6.3836e-01, 5.6696e-01, 6.8875e-01, 4.0753e-01, 4.1275e-01,\n",
      "          7.0525e-01, 9.6804e-01, 2.6776e-01, 7.1990e-01, 2.8361e-01],\n",
      "         [8.3967e-02, 9.8749e-01, 9.3338e-01, 9.2580e-01, 4.4577e-01,\n",
      "          1.9806e-01, 1.1143e-01, 9.3286e-01, 8.8732e-01, 6.3441e-01],\n",
      "         [2.1906e-02, 1.2972e-01, 1.8093e-01, 9.1756e-01, 4.6156e-01,\n",
      "          2.1339e-01, 3.5048e-02, 6.2408e-01, 6.3162e-01, 3.1247e-01],\n",
      "         [4.5245e-01, 5.8984e-01, 1.0425e-01, 8.7551e-02, 9.2218e-01,\n",
      "          7.1245e-01, 6.8412e-01, 4.4637e-01, 2.8695e-01, 7.9892e-01],\n",
      "         [5.2408e-01, 3.8186e-01, 6.3667e-01, 9.8143e-01, 5.4448e-01,\n",
      "          3.5087e-01, 8.1579e-01, 3.6621e-01, 2.6329e-01, 4.0794e-01]],\n",
      "\n",
      "        [[3.5690e-01, 3.2481e-01, 4.6615e-01, 3.0869e-01, 5.1354e-01,\n",
      "          4.9829e-01, 1.4181e-01, 3.1160e-01, 1.4585e-02, 1.1857e-01],\n",
      "         [9.1948e-01, 2.3705e-01, 8.8813e-01, 1.2519e-01, 5.5071e-01,\n",
      "          9.5554e-01, 3.5123e-01, 7.4154e-01, 9.8372e-01, 5.8413e-01],\n",
      "         [4.5108e-01, 3.1534e-01, 5.3327e-02, 5.3770e-01, 1.6271e-01,\n",
      "          4.9512e-01, 2.4267e-01, 7.3314e-01, 6.7980e-01, 2.8115e-01],\n",
      "         [2.9037e-01, 6.4408e-01, 8.1371e-01, 7.0293e-02, 1.4095e-02,\n",
      "          5.0783e-01, 6.7976e-01, 5.3892e-01, 6.1530e-01, 8.9777e-01],\n",
      "         [7.1015e-02, 6.8407e-01, 7.4368e-01, 4.9987e-01, 5.3781e-01,\n",
      "          2.5454e-01, 9.9813e-01, 8.4248e-01, 7.5526e-02, 4.2817e-01],\n",
      "         [4.9915e-01, 4.5520e-01, 2.5140e-01, 2.5098e-01, 3.5730e-01,\n",
      "          1.5658e-01, 9.1255e-02, 6.0634e-01, 4.8312e-01, 9.1200e-01],\n",
      "         [1.8537e-01, 7.5715e-01, 3.9850e-01, 4.1460e-01, 7.0435e-01,\n",
      "          9.3399e-01, 7.7444e-02, 7.8256e-01, 6.8900e-01, 5.8901e-01],\n",
      "         [5.6729e-01, 7.5163e-02, 7.4005e-01, 4.6969e-02, 3.1008e-01,\n",
      "          8.4672e-01, 5.1753e-02, 3.1880e-01, 5.4572e-01, 5.5916e-01],\n",
      "         [1.7507e-01, 8.2038e-01, 6.7527e-01, 4.6406e-01, 5.2834e-01,\n",
      "          7.4715e-01, 2.1467e-01, 6.7037e-02, 3.3930e-02, 9.9428e-01],\n",
      "         [7.8404e-01, 2.5350e-01, 7.0435e-01, 5.6308e-01, 9.1605e-02,\n",
      "          4.2601e-01, 4.4459e-01, 2.5811e-01, 9.7756e-01, 5.5836e-01]],\n",
      "\n",
      "        [[3.2585e-01, 7.0232e-02, 5.4160e-01, 8.7072e-01, 3.4224e-02,\n",
      "          3.0210e-01, 2.0955e-01, 1.2281e-01, 7.8317e-01, 9.6501e-01],\n",
      "         [5.3899e-01, 2.0420e-01, 3.9355e-01, 9.0306e-01, 4.1824e-01,\n",
      "          2.3562e-01, 5.7800e-01, 4.7124e-01, 5.8529e-01, 1.4039e-01],\n",
      "         [5.7081e-01, 3.5350e-01, 8.0240e-01, 9.1266e-01, 8.3514e-01,\n",
      "          6.9508e-01, 6.3621e-01, 3.8430e-01, 4.8758e-01, 6.0548e-01],\n",
      "         [6.2958e-01, 5.9226e-01, 1.3379e-01, 3.7829e-01, 5.8930e-01,\n",
      "          4.5380e-01, 7.2026e-01, 8.9250e-01, 9.9082e-01, 6.5414e-01],\n",
      "         [7.6786e-02, 4.4892e-01, 8.8674e-01, 4.9882e-01, 7.0767e-01,\n",
      "          8.0650e-02, 7.7801e-01, 9.5693e-01, 1.8802e-01, 6.3032e-02],\n",
      "         [1.2415e-01, 5.4233e-01, 1.9093e-01, 1.7623e-01, 6.9212e-01,\n",
      "          8.5726e-01, 7.2474e-01, 2.4425e-01, 1.6275e-01, 2.5444e-01],\n",
      "         [2.0113e-02, 3.1550e-01, 6.9804e-01, 1.5218e-01, 8.2002e-01,\n",
      "          9.0753e-01, 9.9521e-02, 1.4201e-01, 1.0895e-01, 6.8052e-01],\n",
      "         [3.6127e-01, 8.7076e-01, 9.9869e-01, 7.9583e-01, 2.8170e-01,\n",
      "          2.0714e-01, 3.5775e-01, 1.7165e-01, 3.7376e-01, 9.5256e-01],\n",
      "         [5.8829e-01, 2.7519e-01, 8.2199e-01, 9.9238e-01, 3.9978e-02,\n",
      "          5.5301e-01, 7.3611e-01, 2.8697e-02, 3.5161e-01, 9.1085e-01],\n",
      "         [3.7995e-01, 6.8282e-01, 6.2667e-01, 4.1161e-01, 5.1106e-01,\n",
      "          4.4631e-01, 9.3397e-01, 2.5251e-01, 6.2511e-01, 2.5639e-01]]])\n",
      "min: 0.00019168853759765625, max: 0.9986885786056519\n",
      "mean: 0.5125418305397034\n",
      "sum: 512.5418090820312\n"
     ]
    }
   ],
   "source": [
    "x = torch.rand(10, 10, 10)\n",
    "print(x)\n",
    "print(f\"min: {torch.min(x)}, max: {torch.max(x)}\")\n",
    "print(f\"mean: {torch.mean(x)}\")\n",
    "print(f\"sum: {torch.sum(x)}\")"
   ]
  },
  {
   "cell_type": "markdown",
   "metadata": {},
   "source": [
    "Ahora buscamos la posición que tiene el minimo y el max"
   ]
  },
  {
   "cell_type": "code",
   "execution_count": 5,
   "metadata": {},
   "outputs": [
    {
     "data": {
      "text/plain": [
       "tensor(256)"
      ]
     },
     "execution_count": 5,
     "metadata": {},
     "output_type": "execute_result"
    }
   ],
   "source": [
    "x.argmin()"
   ]
  },
  {
   "cell_type": "markdown",
   "metadata": {},
   "source": [
    "### Manipulando la forma de un tensor"
   ]
  },
  {
   "cell_type": "code",
   "execution_count": 8,
   "metadata": {},
   "outputs": [
    {
     "data": {
      "text/plain": [
       "(tensor([1., 2., 3., 4., 5., 6., 7., 8., 9.]), torch.Size([9]))"
      ]
     },
     "execution_count": 8,
     "metadata": {},
     "output_type": "execute_result"
    }
   ],
   "source": [
    "x = torch.arange(1., 10.)\n",
    "x, x.shape"
   ]
  },
  {
   "cell_type": "code",
   "execution_count": 11,
   "metadata": {},
   "outputs": [
    {
     "data": {
      "text/plain": [
       "tensor([[1., 2., 3.],\n",
       "        [4., 5., 6.],\n",
       "        [7., 8., 9.]])"
      ]
     },
     "execution_count": 11,
     "metadata": {},
     "output_type": "execute_result"
    }
   ],
   "source": [
    "#reshape\n",
    "x_reshaped = x.reshape(3, 3)\n",
    "x_reshaped"
   ]
  },
  {
   "cell_type": "code",
   "execution_count": 12,
   "metadata": {},
   "outputs": [
    {
     "data": {
      "text/plain": [
       "(tensor([[1., 2., 3.],\n",
       "         [4., 5., 6.],\n",
       "         [7., 8., 9.]]),\n",
       " tensor([1., 2., 3., 4., 5., 6., 7., 8., 9.]))"
      ]
     },
     "execution_count": 12,
     "metadata": {},
     "output_type": "execute_result"
    }
   ],
   "source": [
    "#View\n",
    "z = x.view(3, 3)\n",
    "z, x"
   ]
  },
  {
   "cell_type": "code",
   "execution_count": 14,
   "metadata": {},
   "outputs": [
    {
     "data": {
      "text/plain": [
       "(tensor([[5., 2., 3.],\n",
       "         [5., 5., 6.],\n",
       "         [5., 8., 9.]]),\n",
       " tensor([5., 2., 3., 5., 5., 6., 5., 8., 9.]))"
      ]
     },
     "execution_count": 14,
     "metadata": {},
     "output_type": "execute_result"
    }
   ],
   "source": [
    "z[:, 0] = 5\n",
    "z, x"
   ]
  },
  {
   "cell_type": "code",
   "execution_count": 22,
   "metadata": {},
   "outputs": [
    {
     "data": {
      "text/plain": [
       "tensor([[5., 5., 5.],\n",
       "        [2., 2., 2.],\n",
       "        [3., 3., 3.],\n",
       "        [5., 5., 5.],\n",
       "        [5., 5., 5.],\n",
       "        [6., 6., 6.],\n",
       "        [5., 5., 5.],\n",
       "        [8., 8., 8.],\n",
       "        [9., 9., 9.]])"
      ]
     },
     "execution_count": 22,
     "metadata": {},
     "output_type": "execute_result"
    }
   ],
   "source": [
    "#stack\n",
    "x_stacked = torch.stack([x, x, x], dim = -1)\n",
    "x_stacked"
   ]
  },
  {
   "cell_type": "code",
   "execution_count": 26,
   "metadata": {},
   "outputs": [
    {
     "name": "stdout",
     "output_type": "stream",
     "text": [
      "tensor([[[[0.9160],\n",
      "          [0.0383],\n",
      "          [0.9932],\n",
      "          [0.6273]],\n",
      "\n",
      "         [[0.1428],\n",
      "          [0.7045],\n",
      "          [0.0374],\n",
      "          [0.3698]]]]) tensor([[0.9160, 0.0383, 0.9932, 0.6273],\n",
      "        [0.1428, 0.7045, 0.0374, 0.3698]])\n",
      "torch.Size([1, 2, 4, 1]) torch.Size([2, 4])\n"
     ]
    }
   ],
   "source": [
    "#Squeeze\n",
    "x = torch.rand(1, 2, 4, 1)\n",
    "x_squeezed = x.squeeze()\n",
    "print(x, x_squeezed)\n",
    "print(x.shape, x_squeezed.shape)"
   ]
  },
  {
   "cell_type": "code",
   "execution_count": 27,
   "metadata": {},
   "outputs": [
    {
     "data": {
      "text/plain": [
       "(torch.Size([2, 4]), torch.Size([1, 2, 4]))"
      ]
     },
     "execution_count": 27,
     "metadata": {},
     "output_type": "execute_result"
    }
   ],
   "source": [
    "#Unsqueeze\n",
    "\n",
    "x_unsqueezed = x_squeezed.unsqueeze(dim = 0)\n",
    "x_squeezed.shape, x_unsqueezed.shape"
   ]
  },
  {
   "cell_type": "code",
   "execution_count": 28,
   "metadata": {},
   "outputs": [
    {
     "data": {
      "text/plain": [
       "torch.Size([3, 224, 224])"
      ]
     },
     "execution_count": 28,
     "metadata": {},
     "output_type": "execute_result"
    }
   ],
   "source": [
    "#permute\n",
    "x_nuevo = torch.rand(size = (224, 224, 3))\n",
    "x_permuted = x_nuevo.permute(2, 0, 1)\n",
    "x_permuted.shape"
   ]
  },
  {
   "cell_type": "markdown",
   "metadata": {},
   "source": [
    "### Indexar"
   ]
  },
  {
   "cell_type": "code",
   "execution_count": 29,
   "metadata": {},
   "outputs": [
    {
     "data": {
      "text/plain": [
       "(tensor([[[1, 2, 3],\n",
       "          [4, 5, 6],\n",
       "          [7, 8, 9]]]),\n",
       " torch.Size([1, 3, 3]))"
      ]
     },
     "execution_count": 29,
     "metadata": {},
     "output_type": "execute_result"
    }
   ],
   "source": [
    "x = torch.arange(1, 10).reshape(1, 3, 3)\n",
    "x, x.shape"
   ]
  },
  {
   "cell_type": "code",
   "execution_count": 30,
   "metadata": {},
   "outputs": [
    {
     "data": {
      "text/plain": [
       "tensor([[1, 2, 3],\n",
       "        [4, 5, 6],\n",
       "        [7, 8, 9]])"
      ]
     },
     "execution_count": 30,
     "metadata": {},
     "output_type": "execute_result"
    }
   ],
   "source": [
    "x[0]"
   ]
  },
  {
   "cell_type": "code",
   "execution_count": 31,
   "metadata": {},
   "outputs": [
    {
     "data": {
      "text/plain": [
       "tensor([1, 2, 3])"
      ]
     },
     "execution_count": 31,
     "metadata": {},
     "output_type": "execute_result"
    }
   ],
   "source": [
    "x[0][0]"
   ]
  },
  {
   "cell_type": "code",
   "execution_count": 32,
   "metadata": {},
   "outputs": [
    {
     "data": {
      "text/plain": [
       "tensor([[1, 2, 3]])"
      ]
     },
     "execution_count": 32,
     "metadata": {},
     "output_type": "execute_result"
    }
   ],
   "source": [
    "x[:, 0]"
   ]
  },
  {
   "cell_type": "code",
   "execution_count": 33,
   "metadata": {},
   "outputs": [
    {
     "data": {
      "text/plain": [
       "tensor(9)"
      ]
     },
     "execution_count": 33,
     "metadata": {},
     "output_type": "execute_result"
    }
   ],
   "source": [
    "# Index on x to return 9\n",
    "x[0, -1, -1]"
   ]
  },
  {
   "cell_type": "code",
   "execution_count": 35,
   "metadata": {},
   "outputs": [
    {
     "data": {
      "text/plain": [
       "tensor([3, 6, 9])"
      ]
     },
     "execution_count": 35,
     "metadata": {},
     "output_type": "execute_result"
    }
   ],
   "source": [
    "#index on x to return 3, 6, 9\n",
    "x[0, :, -1]"
   ]
  },
  {
   "cell_type": "markdown",
   "metadata": {},
   "source": [
    "## Pythorch tensors & Numpy arrays"
   ]
  },
  {
   "cell_type": "code",
   "execution_count": 37,
   "metadata": {},
   "outputs": [
    {
     "data": {
      "text/plain": [
       "(array([1., 2., 3., 4., 5., 6., 7.]),\n",
       " tensor([1., 2., 3., 4., 5., 6., 7.], dtype=torch.float64))"
      ]
     },
     "execution_count": 37,
     "metadata": {},
     "output_type": "execute_result"
    }
   ],
   "source": [
    "#De array a tensor\n",
    "\n",
    "array = np.arange(1.0, 8.0)\n",
    "tensor = torch.from_numpy(array)\n",
    "array, tensor"
   ]
  },
  {
   "cell_type": "markdown",
   "metadata": {},
   "source": [
    "Difieren en el tipo de dato default, el dtype default de los np array es float64 y el de los tensores en float32"
   ]
  },
  {
   "cell_type": "code",
   "execution_count": 38,
   "metadata": {},
   "outputs": [
    {
     "data": {
      "text/plain": [
       "(array([2., 3., 4., 5., 6., 7., 8.]),\n",
       " tensor([1., 2., 3., 4., 5., 6., 7.], dtype=torch.float64))"
      ]
     },
     "execution_count": 38,
     "metadata": {},
     "output_type": "execute_result"
    }
   ],
   "source": [
    "array = array + 1\n",
    "array, tensor"
   ]
  },
  {
   "cell_type": "code",
   "execution_count": 39,
   "metadata": {},
   "outputs": [
    {
     "data": {
      "text/plain": [
       "(tensor([1., 1., 1., 1., 1., 1., 1.]),\n",
       " array([1., 1., 1., 1., 1., 1., 1.], dtype=float32))"
      ]
     },
     "execution_count": 39,
     "metadata": {},
     "output_type": "execute_result"
    }
   ],
   "source": [
    "#De tensor a array\n",
    "tensor = torch.ones(7)\n",
    "np_tensor = tensor.numpy()\n",
    "\n",
    "tensor, np_tensor"
   ]
  },
  {
   "cell_type": "markdown",
   "metadata": {},
   "source": [
    "## Reproductividad (tratando de sacar lo random de lo random)\n",
    "\n",
    "Lo usamos para que una operación random no sea tan random"
   ]
  },
  {
   "cell_type": "code",
   "execution_count": 3,
   "metadata": {},
   "outputs": [
    {
     "name": "stdout",
     "output_type": "stream",
     "text": [
      "tensor([[0.5711, 0.2022, 0.4431, 0.1659],\n",
      "        [0.6124, 0.0879, 0.6021, 0.9192],\n",
      "        [0.1030, 0.6882, 0.0713, 0.6941]])\n",
      "tensor([[0.5115, 0.2240, 0.3794, 0.1300],\n",
      "        [0.6449, 0.2998, 0.4649, 0.4693],\n",
      "        [0.9853, 0.6597, 0.1825, 0.5129]])\n",
      "tensor([[False, False, False, False],\n",
      "        [False, False, False, False],\n",
      "        [False, False, False, False]])\n"
     ]
    }
   ],
   "source": [
    "random_A = torch.rand(3, 4)\n",
    "random_B = torch.rand(3, 4)\n",
    "\n",
    "print(random_A)\n",
    "print(random_B)\n",
    "print(random_A == random_B)"
   ]
  },
  {
   "cell_type": "code",
   "execution_count": 5,
   "metadata": {},
   "outputs": [
    {
     "name": "stdout",
     "output_type": "stream",
     "text": [
      "tensor([[0.8823, 0.9150, 0.3829, 0.9593],\n",
      "        [0.3904, 0.6009, 0.2566, 0.7936],\n",
      "        [0.9408, 0.1332, 0.9346, 0.5936]])\n",
      "tensor([[0.8823, 0.9150, 0.3829, 0.9593],\n",
      "        [0.3904, 0.6009, 0.2566, 0.7936],\n",
      "        [0.9408, 0.1332, 0.9346, 0.5936]])\n",
      "tensor([[True, True, True, True],\n",
      "        [True, True, True, True],\n",
      "        [True, True, True, True]])\n"
     ]
    }
   ],
   "source": [
    "RANDOM_SEED = 42\n",
    "\n",
    "torch.manual_seed(RANDOM_SEED)\n",
    "random_C = torch.rand(3, 4)\n",
    "\n",
    "torch.manual_seed(RANDOM_SEED)\n",
    "random_D = torch.rand(3, 4)\n",
    "\n",
    "print(random_C)\n",
    "print(random_D)\n",
    "print(random_C == random_D)"
   ]
  },
  {
   "cell_type": "markdown",
   "metadata": {},
   "source": []
  }
 ],
 "metadata": {
  "kernelspec": {
   "display_name": "base",
   "language": "python",
   "name": "python3"
  },
  "language_info": {
   "codemirror_mode": {
    "name": "ipython",
    "version": 3
   },
   "file_extension": ".py",
   "mimetype": "text/x-python",
   "name": "python",
   "nbconvert_exporter": "python",
   "pygments_lexer": "ipython3",
   "version": "3.10.9"
  }
 },
 "nbformat": 4,
 "nbformat_minor": 2
}
