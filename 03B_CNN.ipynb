{
 "cells": [
  {
   "cell_type": "code",
   "execution_count": 13,
   "metadata": {},
   "outputs": [],
   "source": [
    "import torch\n",
    "from torch import nn\n",
    "import torchvision\n",
    "from torchvision import datasets, transforms\n",
    "from torchvision.transforms import ToTensor\n",
    "from torch.utils.data import DataLoader\n",
    "import numpy as np\n",
    "from matplotlib import pyplot as plt\n",
    "from helper_functions import accuracy_fn\n",
    "\n",
    "def train_step(model, data_loader, loss_fn, optimizer, accuracy_fn, device):\n",
    "    \"\"\"Performs a training with model trying to learn on data_loader\"\"\"\n",
    "    train_loss, train_acc = 0, 0\n",
    "\n",
    "    model.to(device)\n",
    "\n",
    "    model.train()\n",
    "    for X, y in data_loader:    \n",
    "        X, y = X.to(device), y.to(device)\n",
    "        y_pred = model(X)\n",
    "\n",
    "        loss = loss_fn(y_pred, y)\n",
    "        train_loss += loss\n",
    "        train_acc += accuracy_fn(y_true=y, y_pred=y_pred.argmax(dim=1))\n",
    "        optimizer.zero_grad()\n",
    "        loss.backward()\n",
    "        optimizer.step()\n",
    "\n",
    "    train_loss /= len(data_loader)\n",
    "    train_acc /= len(data_loader)\n",
    "\n",
    "    print(f\"Train loss: {train_loss:.5f} | Train accuracy: {train_acc:.5f}%\")\n",
    "\n",
    "\n",
    "def test_step(model, data_loader, loss_fn, accuracy_fn, device):\n",
    "    \"\"\"Performs a training with model trying to learn on data_loader\"\"\"\n",
    "    test_loss, test_acc = 0, 0\n",
    "\n",
    "    model.eval()\n",
    "\n",
    "    with torch.inference_mode():\n",
    "        for X, y in data_loader:\n",
    "            X, y = X.to(device), y.to(device)\n",
    "\n",
    "            test_pred = model(X)\n",
    "            test_loss += loss_fn(test_pred, y)\n",
    "            test_acc += accuracy_fn(y_true=y, y_pred=test_pred.argmax(dim=1))\n",
    "\n",
    "        test_loss /= len(data_loader)\n",
    "        test_acc /= len(data_loader)\n",
    "\n",
    "        print(f\"Test loss: {test_loss:.5f} | Test accuracy: {test_acc:.5f}%\")\n",
    "\n",
    "def eval_model(model: torch.nn.Module, data_loader, loss_fn, accuracy_fn):\n",
    "    \"\"\"\n",
    "    Returns a dictionary containing the results of model predicting on data_loader\n",
    "    \"\"\"\n",
    "    loss, acc = 0, 0\n",
    "    model.eval()\n",
    "    with torch.inference_mode():\n",
    "        for X, y in data_loader:\n",
    "            y_pred = model(X)\n",
    "\n",
    "            # accumulate the loss and acc values per batch\n",
    "            loss += loss_fn(y_pred, y)\n",
    "            acc += accuracy_fn(y_true=y, y_pred=y_pred.argmax(dim=1))\n",
    "\n",
    "        loss /= len(data_loader)\n",
    "        acc /= len(data_loader)\n",
    "\n",
    "\n",
    "    return {\"model_name\": model.__class__.__name__, \"loss\": loss.item(), \"accuracy\": acc}"
   ]
  },
  {
   "cell_type": "markdown",
   "metadata": {},
   "source": [
    "# Convolutional Neural Network (CNN)\n",
    "\n",
    "Una CNN es un tipo de red neuronal especialmente diseñada para procesar datos que tienen una estructura de rejilla, como imágenes o señales de audio. Se utilizan ampliamente en tareas de visión por computadora, reconocimiento de imágenes, procesamiento de video y más.\n",
    "\n",
    "La clave de una CNN son las capas convolucionales. Estas capas aplican filtros (kernels) a la entrada, realizando operaciones de convolución. Esto permite que la red pueda aprender características importantes de las imágenes, como bordes, texturas o patrones más complejos. Además de las capas convolucionales, las CNN también suelen incluir capas de agrupación (pooling) que reducen la dimensionalidad de las características extraídas, y capas completamente conectadas al final para realizar la clasificación final.\n",
    "\n",
    "Una ventaja importante de las CNN es su capacidad para aprender representaciones jerárquicas de características. En las primeras capas, la red puede aprender características simples como bordes y colores, mientras que en las capas más profundas puede combinar estas características simples para reconocer objetos más complejos y abstractos.\n",
    "\n",
    "## Convolución sobre una imagen\n",
    "\n",
    "Al convolucionar una imagen se produce una imagen nueva (a la cual llamamos mapa de características), donde cada pixel es resultado de aplicar un filtro (matriz de numeros, o kernel) sobre la imagen de entrada y se multiplicar y sumar los valores de pixeles vecinos. El resultado de la nueva imagen dependera de los valores del kernel.\n",
    "\n",
    "Si tenemos por ejemplo un filtro de la siguiente manera:\n",
    "\n",
    "\\begin{equation}\n",
    "    \\begin{pmatrix}\n",
    "    0 & 0 & 0\\\\\n",
    "    0 & 1 & 0\\\\\n",
    "    0 & 0 & 0\n",
    "    \\end{pmatrix}\n",
    "\\end{equation}\n",
    "\n",
    "el resultado será una copia exacta de la misma imagen, ya que en este caso el pixel de la imagen será $1 \\cdot$ valor de pixel central + $ 0 \\cdot$ valores de pixeles vecinos. En cambio si aplicamos  un filtro de esta otra manera:\n",
    "\n",
    "\\begin{equation}\n",
    "    \\begin{pmatrix}\n",
    "    1 & 1 & 1\\\\\n",
    "    1 & 1 & 1\\\\\n",
    "    1 & 1 & 1\n",
    "    \\end{pmatrix}\n",
    "\\end{equation}\n",
    "\n",
    "y luego divimos entre el numero de pixeles, estaremos calculando la media de ellos y como resultado tendríamos un efecto de desenfoque en la imagen. También podemos obtener una diferencia de contrastes para detectar bordes con:\n",
    "\n",
    "\\begin{equation}\n",
    "    \\begin{pmatrix}\n",
    "    -1 & 0 & 1\\\\\n",
    "    -1 & 0 & 1\\\\\n",
    "    -1 & 0 & 1\n",
    "    \\end{pmatrix}\n",
    "\\end{equation}\n",
    "\n",
    "En resumen, estos filtros se utilizan para buscar patrones en las imagenes y la red neuronal se encarga de buscar los valores para dichos filtros por sí misma."
   ]
  },
  {
   "cell_type": "code",
   "execution_count": 2,
   "metadata": {},
   "outputs": [],
   "source": [
    "torch.manual_seed(42)\n",
    "\n",
    "#toy data\n",
    "images = torch.randn(32, 3, 64, 64)\n",
    "test_image = images[0]\n",
    "\n",
    "conv_layer = nn.Conv2d(in_channels=3, out_channels=10, kernel_size=5, stride=2, padding=0)"
   ]
  },
  {
   "cell_type": "markdown",
   "metadata": {},
   "source": [
    "#### Hiperparámetros de una red convolucional\n",
    "- Kernel_size: tamaño del filtro\n",
    "- Stride: Cada cuantos pixeles ocurre la convolución. Se comprime la salida\n",
    "- Padding: El kernel opera sobre los bordes para detectar patrones\n",
    "\n",
    "Una capa convolucional termina comprimiendo la entrada en un tipo de representation"
   ]
  },
  {
   "cell_type": "code",
   "execution_count": 3,
   "metadata": {},
   "outputs": [
    {
     "data": {
      "text/plain": [
       "tensor([[[-0.1129,  0.5471, -0.5891,  ..., -0.5712,  0.4182, -0.5001],\n",
       "         [ 1.4239,  0.7090, -0.6610,  ...,  0.1041,  1.0934,  0.7875],\n",
       "         [ 0.1732,  0.4402,  0.1813,  ..., -0.1690,  0.7322,  0.3567],\n",
       "         ...,\n",
       "         [-0.8742, -0.1147, -0.6988,  ...,  0.7947, -0.4199, -0.3224],\n",
       "         [-1.0841, -0.1257,  0.0860,  ...,  0.3970,  0.6671,  0.0722],\n",
       "         [ 0.0717,  0.0461, -0.2053,  ..., -0.4966,  0.5335,  0.0132]],\n",
       "\n",
       "        [[-0.8464,  0.6344, -0.9584,  ..., -0.1285, -0.6308, -0.1071],\n",
       "         [-0.5381,  0.4864, -0.1222,  ..., -0.1194,  0.3768,  0.0826],\n",
       "         [-0.7345,  0.8163, -0.1800,  ..., -1.1557, -0.3832,  0.7655],\n",
       "         ...,\n",
       "         [-0.7267, -0.3499,  0.1426,  ...,  0.0694,  0.6739,  0.1269],\n",
       "         [-0.2240,  0.3323,  0.1510,  ...,  0.0349,  0.2731, -0.5165],\n",
       "         [ 0.0749, -0.7949,  0.3974,  ...,  0.8010, -0.1916, -0.1639]],\n",
       "\n",
       "        [[-1.1718, -0.3714, -0.4953,  ..., -0.1188, -0.3608, -0.0154],\n",
       "         [-0.5746, -0.7343, -0.3105,  ..., -0.5360, -0.0775, -1.0018],\n",
       "         [ 0.2294, -0.2824,  0.3815,  ...,  0.7566, -0.7200, -0.1587],\n",
       "         ...,\n",
       "         [-0.1142, -0.4188, -0.4297,  ...,  0.2325,  0.6020, -0.1158],\n",
       "         [-0.0950, -0.2263, -0.9992,  ..., -1.1955,  0.1657,  0.2700],\n",
       "         [ 0.4693,  0.4598,  0.6473,  ...,  0.6181,  0.0064, -1.0922]],\n",
       "\n",
       "        ...,\n",
       "\n",
       "        [[ 0.7751, -0.1043, -0.4992,  ...,  0.5378, -0.1329,  0.5300],\n",
       "         [ 0.7012, -0.9784,  0.2880,  ..., -0.4773,  0.9787, -0.2980],\n",
       "         [ 0.2968, -0.1999, -0.4359,  ...,  0.3807, -0.7371, -0.3522],\n",
       "         ...,\n",
       "         [-0.2495,  0.5689,  0.1012,  ..., -0.4402,  0.4629, -0.3396],\n",
       "         [ 0.9631,  0.6383,  0.1069,  ...,  0.6107, -0.9578,  0.8718],\n",
       "         [ 0.2955,  0.2336, -0.3636,  ...,  0.1590, -0.2618, -0.7642]],\n",
       "\n",
       "        [[ 0.7552, -0.7366,  0.5576,  ..., -0.8296,  1.7830, -0.0982],\n",
       "         [-0.1007,  1.2756, -0.0781,  ...,  0.8575,  0.6583,  0.5856],\n",
       "         [ 0.1220,  0.3531,  0.1807,  ..., -0.8530, -0.1261, -0.4032],\n",
       "         ...,\n",
       "         [-1.3291,  0.8399, -0.1744,  ..., -0.4206,  0.3865, -0.1612],\n",
       "         [-0.8821,  1.0083,  1.0129,  ..., -0.1285, -0.3013, -0.4029],\n",
       "         [ 0.3776,  0.1510,  0.1589,  ..., -0.2669, -0.5018, -0.3391]],\n",
       "\n",
       "        [[-0.2122, -0.4409, -0.2019,  ..., -0.1995,  0.8930, -0.3792],\n",
       "         [-0.2354, -0.1744, -0.4473,  ..., -0.6078, -0.3758, -0.4250],\n",
       "         [-0.7389, -0.1043,  0.1091,  ..., -1.5281,  0.3019,  1.0871],\n",
       "         ...,\n",
       "         [-0.4941,  0.1168, -0.2319,  ..., -0.0212, -0.6457,  0.0879],\n",
       "         [ 0.3282, -0.3854,  0.3275,  ...,  0.3914,  0.0618, -0.4452],\n",
       "         [ 0.3870, -0.3000,  0.2162,  ...,  0.0936, -0.8521, -0.2923]]],\n",
       "       grad_fn=<SqueezeBackward1>)"
      ]
     },
     "execution_count": 3,
     "metadata": {},
     "output_type": "execute_result"
    }
   ],
   "source": [
    "conv_output = conv_layer(test_image)\n",
    "\n",
    "#en algunas versiones de pytorch es necesario hacer .unsqueeze(0)\n",
    "\n",
    "conv_output"
   ]
  },
  {
   "cell_type": "markdown",
   "metadata": {},
   "source": [
    "---------------------------------------------"
   ]
  },
  {
   "cell_type": "code",
   "execution_count": 4,
   "metadata": {},
   "outputs": [],
   "source": [
    "device = \"cpu\"\n",
    "\n",
    "#Get data\n",
    "\n",
    "train_data = datasets.FashionMNIST(root=\"data\", train = True, download=False, transform = torchvision.transforms.ToTensor(), target_transform=None)\n",
    "test_data = datasets.FashionMNIST(root=\"data\", train = False, download=False, transform = torchvision.transforms.ToTensor(), target_transform=None)\n",
    "\n",
    "class_names, class_to_idx = train_data.classes, train_data.class_to_idx\n",
    "\n",
    "image, label= train_data[0]\n",
    "\n",
    "BATCH_SIZE = 32\n",
    "\n",
    "train_dataloader = DataLoader(dataset=train_data, batch_size=BATCH_SIZE, shuffle=True)\n",
    "test_dataloader = DataLoader(dataset=test_data, batch_size=BATCH_SIZE, shuffle=False)"
   ]
  },
  {
   "cell_type": "markdown",
   "metadata": {},
   "source": [
    "## Construcción de una CNN\n",
    "\n",
    "La potencia de una CNN radica en combinar multiples capas convolucionales en donde se detecten patrones cada vez más complejos.\n",
    "\n",
    "MaxPooling lo que hace es comprimir los datos, la salida es la mitad del tamaño de la entrada. De esta forma, a medida que los datos van pasando a través del modelo, estos se van haciendo más chicos. En cada capa va aprendiendo representaciones más comprimidas "
   ]
  },
  {
   "cell_type": "code",
   "execution_count": 5,
   "metadata": {},
   "outputs": [],
   "source": [
    "class FashionMNISTModelV2(nn.Module):\n",
    "    \"\"\"Model architecture that replicates the TinyVGG model from CNN explainer websute\n",
    "        If the design_mode param is true, every time the forward method executes the model with show x.shape after each block\n",
    "    \"\"\"\n",
    "    def __init__(self, input_shape, hidden_units, output_shape, design_mode):\n",
    "        super().__init__()\n",
    "\n",
    "        self.design_mode = design_mode\n",
    "\n",
    "        self.conv_block_1 = nn.Sequential(\n",
    "            nn.Conv2d(in_channels=input_shape, out_channels=hidden_units, kernel_size=3, stride=1, padding=1),\n",
    "            nn.ReLU(),\n",
    "            nn.Conv2d(in_channels=hidden_units, out_channels=hidden_units, kernel_size=3, stride=1, padding=1),\n",
    "            nn.ReLU(),\n",
    "            nn.MaxPool2d(kernel_size=2)\n",
    "        )\n",
    "\n",
    "        self.conv_block_2 = nn.Sequential(\n",
    "            nn.Conv2d(in_channels=hidden_units, out_channels=hidden_units, kernel_size=3, stride=1, padding=1),\n",
    "            nn.ReLU(),\n",
    "            nn.Conv2d(in_channels=hidden_units, out_channels=hidden_units, kernel_size=3, stride=1, padding=1),\n",
    "            nn.ReLU(),\n",
    "            nn.MaxPool2d(kernel_size=2)\n",
    "        )\n",
    "\n",
    "        self.classifier = nn.Sequential(\n",
    "            nn.Flatten(),\n",
    "            nn.Linear(in_features=hidden_units*7*7, out_features=output_shape)  #acá hay que calcular con qué forma llega el tensor de entrada\n",
    "        )\n",
    "\n",
    "    def toggle_design_mode(self):\n",
    "        self.design_mode = not(self.design_mode)\n",
    "\n",
    "    def forward(self, x):\n",
    "        x = self.conv_block_1(x)\n",
    "        if self.design_mode: print(f\"Output of conv block 1: {x.shape}\")\n",
    "        x = self.conv_block_2(x)\n",
    "        if self.design_mode: print(f\"Output of conv block 2: {x.shape}\")\n",
    "        x =  self.classifier(x)\n",
    "        if self.design_mode: print(f\"Output of classifier block: {x.shape}\")\n",
    "        return x"
   ]
  },
  {
   "cell_type": "code",
   "execution_count": 6,
   "metadata": {},
   "outputs": [
    {
     "data": {
      "text/plain": [
       "<matplotlib.image.AxesImage at 0x2d23c7ac0d0>"
      ]
     },
     "execution_count": 6,
     "metadata": {},
     "output_type": "execute_result"
    },
    {
     "data": {
      "image/png": "[encoded data removed]",
      "text/plain": [
       "<Figure size 640x480 with 1 Axes>"
      ]
     },
     "metadata": {},
     "output_type": "display_data"
    }
   ],
   "source": [
    "plt.imshow(image.squeeze(), cmap=\"grey\")"
   ]
  },
  {
   "cell_type": "code",
   "execution_count": 7,
   "metadata": {},
   "outputs": [
    {
     "data": {
      "text/plain": [
       "torch.Size([1, 28, 28])"
      ]
     },
     "execution_count": 7,
     "metadata": {},
     "output_type": "execute_result"
    }
   ],
   "source": [
    "image.shape"
   ]
  },
  {
   "cell_type": "markdown",
   "metadata": {},
   "source": [
    "En nuestro caso tenemos solo un canal de colores (B&W)"
   ]
  },
  {
   "cell_type": "code",
   "execution_count": 8,
   "metadata": {},
   "outputs": [],
   "source": [
    "torch.manual_seed(42)\n",
    "\n",
    "rand_img_tensor = torch.randn(size = (1, 28, 28))\n",
    "\n",
    "model_2 = FashionMNISTModelV2(input_shape=1, hidden_units=10, output_shape=len(class_names), design_mode=True).to(device)"
   ]
  },
  {
   "cell_type": "code",
   "execution_count": 9,
   "metadata": {},
   "outputs": [
    {
     "name": "stdout",
     "output_type": "stream",
     "text": [
      "Output of conv block 1: torch.Size([1, 10, 14, 14])\n",
      "Output of conv block 2: torch.Size([1, 10, 7, 7])\n",
      "Output of classifier block: torch.Size([1, 10])\n"
     ]
    },
    {
     "data": {
      "text/plain": [
       "tensor([[-0.0339, -0.0266,  0.0560,  0.0843, -0.0039, -0.0867,  0.0439, -0.0262,\n",
       "         -0.0898, -0.0353]], grad_fn=<AddmmBackward0>)"
      ]
     },
     "execution_count": 9,
     "metadata": {},
     "output_type": "execute_result"
    }
   ],
   "source": [
    "rand_img_tensor = torch.randn(size=(1, 28, 28))\n",
    "model_2(rand_img_tensor.unsqueeze(0))"
   ]
  },
  {
   "cell_type": "code",
   "execution_count": 10,
   "metadata": {},
   "outputs": [],
   "source": [
    "if model_2.design_mode:\n",
    "    model_2.toggle_design_mode()"
   ]
  },
  {
   "cell_type": "markdown",
   "metadata": {},
   "source": [
    "## Loss Function, Optimizer y training loop"
   ]
  },
  {
   "cell_type": "code",
   "execution_count": 11,
   "metadata": {},
   "outputs": [],
   "source": [
    "loss_fn = nn.CrossEntropyLoss()\n",
    "optimizer = torch.optim.SGD(params = model_2.parameters(), lr = 0.1)"
   ]
  },
  {
   "cell_type": "code",
   "execution_count": 12,
   "metadata": {},
   "outputs": [
    {
     "name": "stdout",
     "output_type": "stream",
     "text": [
      "Epoch: 0\n",
      " --------\n",
      "Train loss: 0.59047 | Train accuracy: 78.54500%\n",
      "Test loss: 0.39039 | Test accuracy: 85.90256%\n",
      "Epoch: 1\n",
      " --------\n",
      "Train loss: 0.35098 | Train accuracy: 87.36167%\n",
      "Test loss: 0.33215 | Test accuracy: 87.94928%\n",
      "Epoch: 2\n",
      " --------\n",
      "Train loss: 0.31197 | Train accuracy: 88.69167%\n",
      "Test loss: 0.32331 | Test accuracy: 88.21885%\n"
     ]
    }
   ],
   "source": [
    "torch.manual_seed(42)\n",
    "\n",
    "epochs = 3\n",
    "\n",
    "for epoch in range(epochs):\n",
    "    print(f\"Epoch: {epoch}\\n --------\")\n",
    "    train_step(model=model_2, loss_fn=loss_fn, optimizer=optimizer, accuracy_fn=accuracy_fn, data_loader=train_dataloader, device=\"cpu\")\n",
    "    test_step(model=model_2, loss_fn=loss_fn, accuracy_fn=accuracy_fn, data_loader=test_dataloader, device=\"cpu\")"
   ]
  },
  {
   "cell_type": "code",
   "execution_count": 16,
   "metadata": {},
   "outputs": [
    {
     "data": {
      "text/plain": [
       "{'model_name': 'FashionMNISTModelV2',\n",
       " 'loss': 0.32331225275993347,\n",
       " 'accuracy': 88.21884984025559}"
      ]
     },
     "execution_count": 16,
     "metadata": {},
     "output_type": "execute_result"
    }
   ],
   "source": [
    "model_2_results = eval_model(model=model_2, data_loader=test_dataloader, loss_fn=loss_fn, accuracy_fn=accuracy_fn)\n",
    "model_2_results"
   ]
  },
  {
   "cell_type": "markdown",
   "metadata": {},
   "source": [
    "## Guardar Modelo"
   ]
  },
  {
   "cell_type": "code",
   "execution_count": 17,
   "metadata": {},
   "outputs": [
    {
     "name": "stdout",
     "output_type": "stream",
     "text": [
      "Saving model to: models\\03_CNN_model_2.pth\n"
     ]
    }
   ],
   "source": [
    "from pathlib import Path\n",
    "\n",
    "# 1) Crear el directorio\n",
    "MODEL_PATH = Path(\"models\")\n",
    "MODEL_PATH.mkdir(parents=True, exist_ok=True)\n",
    "\n",
    "# 2) Crear al path de guardado\n",
    "MODEL_NAME = \"03_CNN_model_2.pth\"\n",
    "MODEL_SAVE_PATH = MODEL_PATH / MODEL_NAME\n",
    "\n",
    "\n",
    "# 3) Guardar el model state dict\n",
    "print(F\"Saving model to: {MODEL_SAVE_PATH}\")\n",
    "torch.save(obj=model_2.state_dict(), f=MODEL_SAVE_PATH)"
   ]
  }
 ],
 "metadata": {
  "kernelspec": {
   "display_name": "sonido",
   "language": "python",
   "name": "python3"
  },
  "language_info": {
   "codemirror_mode": {
    "name": "ipython",
    "version": 3
   },
   "file_extension": ".py",
   "mimetype": "text/x-python",
   "name": "python",
   "nbconvert_exporter": "python",
   "pygments_lexer": "ipython3",
   "version": "3.10.13"
  }
 },
 "nbformat": 4,
 "nbformat_minor": 2
}
