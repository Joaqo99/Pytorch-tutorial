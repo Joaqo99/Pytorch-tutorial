{
 "cells": [
  {
   "cell_type": "code",
   "execution_count": 1,
   "metadata": {},
   "outputs": [],
   "source": [
    "import torch\n",
    "from torch import nn\n",
    "import numpy as np\n",
    "from matplotlib import pyplot as plt"
   ]
  },
  {
   "cell_type": "markdown",
   "metadata": {},
   "source": [
    "# Pytorch Workflow\n",
    "\n",
    "1) Preparación de datos\n",
    "2) Construcción del modelo\n",
    "3) Ajuste del modelo a los datos (entrenamiento)\n",
    "4) Hacer predicciones y evaluar el modelo (inferencia)\n",
    "5) Guardar y cargar modelo\n",
    "\n",
    "## Preparación de datos\n",
    "\n",
    "Transformamos los datos en representaciones numéricas para luego construir un modelo que aprenda patrones dentro de esa representación. \n",
    "\n",
    "Empezamos con datos \"conocidos\" usando regresión lineal.\n",
    "\n",
    "### Regresión Lineal"
   ]
  },
  {
   "cell_type": "code",
   "execution_count": 2,
   "metadata": {},
   "outputs": [
    {
     "data": {
      "text/plain": [
       "(tensor([[0.0000],\n",
       "         [0.0200],\n",
       "         [0.0400],\n",
       "         [0.0600],\n",
       "         [0.0800],\n",
       "         [0.1000],\n",
       "         [0.1200],\n",
       "         [0.1400],\n",
       "         [0.1600],\n",
       "         [0.1800]]),\n",
       " tensor([[0.3000],\n",
       "         [0.3140],\n",
       "         [0.3280],\n",
       "         [0.3420],\n",
       "         [0.3560],\n",
       "         [0.3700],\n",
       "         [0.3840],\n",
       "         [0.3980],\n",
       "         [0.4120],\n",
       "         [0.4260]]))"
      ]
     },
     "execution_count": 2,
     "metadata": {},
     "output_type": "execute_result"
    }
   ],
   "source": [
    "weight = 0.7 #pendiente\n",
    "bias = 0.3 #termino independiente\n",
    "\n",
    "start = 0\n",
    "end = 1\n",
    "step = 0.02\n",
    "\n",
    "X = torch.arange(start, end, step).unsqueeze(dim=1)\n",
    "\n",
    "y = weight * X + bias\n",
    "\n",
    "X[:10], y[:10]"
   ]
  },
  {
   "cell_type": "code",
   "execution_count": 3,
   "metadata": {},
   "outputs": [
    {
     "data": {
      "text/plain": [
       "(torch.Size([50, 1]), torch.Size([50, 1]))"
      ]
     },
     "execution_count": 3,
     "metadata": {},
     "output_type": "execute_result"
    }
   ],
   "source": [
    "X.shape, y.shape"
   ]
  },
  {
   "cell_type": "markdown",
   "metadata": {},
   "source": [
    "### Separación de datos para entrenamiento, validación y testeo\n",
    "\n",
    "#### Entrenamiento"
   ]
  },
  {
   "cell_type": "code",
   "execution_count": 3,
   "metadata": {},
   "outputs": [],
   "source": [
    "train_split = int(0.8 * len(X))\n",
    "X_train, y_train = X[:train_split], y[:train_split]\n",
    "X_test, y_test = X[train_split:], y[train_split:]"
   ]
  },
  {
   "cell_type": "markdown",
   "metadata": {},
   "source": [
    "Visualization de datos:"
   ]
  },
  {
   "cell_type": "code",
   "execution_count": 4,
   "metadata": {},
   "outputs": [],
   "source": [
    "def plot_predictions(train_data = X_train, train_labels = y_train, test_data = X_test, test_labels = y_test, predictions = None, model_name = \"\"):\n",
    "    \"\"\"\n",
    "    Plots training data, test data, and compares predictions\n",
    "\n",
    "    Output:\n",
    "        - Train data (color Blue)\n",
    "        - Test data (color Green)\n",
    "        - Predictions (color red)\n",
    "    \"\"\"\n",
    "    plt.scatter(train_data, train_labels, c=\"b\", s=4, label = \"Training data\")\n",
    "    plt.scatter(test_data, test_labels, c=\"g\", s=4, label = \"Testing data\")\n",
    "\n",
    "    if predictions is not None:\n",
    "        plt.scatter(test_data, predictions, c=\"r\", s=4, label=\"Predictions\")\n",
    "\n",
    "    plt.title(f\"{model_name} Predictions\") \n",
    "\n",
    "    plt.legend()"
   ]
  },
  {
   "cell_type": "code",
   "execution_count": 5,
   "metadata": {},
   "outputs": [
    {
     "data": {
      "image/png": "[encoded data removed]",
      "text/plain": [
       "<Figure size 640x480 with 1 Axes>"
      ]
     },
     "metadata": {},
     "output_type": "display_data"
    }
   ],
   "source": [
    "plot_predictions()"
   ]
  },
  {
   "cell_type": "markdown",
   "metadata": {},
   "source": [
    "### Construimos el modelo\n",
    "\n",
    "Se construye un modelo matemático:\n",
    "\n",
    "\\begin{equation}\n",
    "\n",
    "Y_{i} = f(X_{i}, \\beta) + e_{i}\n",
    "\n",
    "\\end{equation}\n",
    "Donde:\n",
    "-   $Y_{i}$ es la variable dependiente\n",
    "-   $f$ es una función\n",
    "-   $X_{i}$ es la variable independiente\n",
    "-   $\\beta$ son parámetros desconocidos\n",
    "-   $e_{i}$ es el término del error\n",
    "\n",
    "En este caso usamos una regresión lineal: $Y = a + bX$\n",
    "\n",
    "#### Cómo funciona el modelo?\n",
    "\n",
    "1) Arranca con valores aleatorios (weight y bias)\n",
    "2) Mira los datos de entrenamiento y ajusta los valores random para obtener una mejor representación (o acercarse) de los valores ideales para crear esos datos.\n",
    "\n",
    "Para eso usa dos algoritmos:\n",
    "1) Gradient descent: El descenso de gradiente es un algoritmo de optimización que se utiliza para minimizar alguna función moviéndose iterativamente en la dirección del descenso más pronunciado definido por el negativo del gradiente. En el aprendizaje automático, utilizamos el descenso de gradiente para actualizar los parámetros de nuestro modelo. En este caso, los parámetros son weights (pendiente) y bias (termino independente).\n",
    "\n",
    "2) Backpropagation: ...\n",
    "\n",
    "Nosotros ejecutamos el codigo de alto nivel y Pytorch ejecuta el codigo de bajo nivel."
   ]
  },
  {
   "cell_type": "code",
   "execution_count": 6,
   "metadata": {},
   "outputs": [],
   "source": [
    "class LinearRegressionModel(nn.Module):\n",
    "    def __init__(self):\n",
    "        super().__init__()\n",
    "        self.weights = nn.Parameter(torch.randn(1, requires_grad=True, dtype=torch.float))\n",
    "        self.bias = nn.Parameter(torch.randn(1, requires_grad=True, dtype=torch.float))\n",
    "\n",
    "\n",
    "        #Forward method\n",
    "    def forward(self, x: torch.Tensor) -> torch.Tensor: #x is input data\n",
    "        return self.weights * x + self.bias #regresion lineal"
   ]
  },
  {
   "cell_type": "markdown",
   "metadata": {},
   "source": [
    "## Pytorch model building essentials\n",
    "\n",
    "- torch.nn: posee todas las construcciones para hacer una red neuronal\n",
    "- torch.nn.Parameter: Representa los parámetros que el modelo tiene que aprender, a veces torch.nn los va a establecer por nosotros\n",
    "- torch.nn.Module: la clase base para para todos los modulos de red neuronal. Si se hace una subclase, hay que sobreescribir el método forward()\n",
    "- torch.optim: Optimizador para el descenso de gradiente.\n",
    "- def forward(): Este método computa los datos"
   ]
  },
  {
   "cell_type": "code",
   "execution_count": 7,
   "metadata": {},
   "outputs": [
    {
     "data": {
      "text/plain": [
       "[Parameter containing:\n",
       " tensor([0.3367], requires_grad=True),\n",
       " Parameter containing:\n",
       " tensor([0.1288], requires_grad=True)]"
      ]
     },
     "execution_count": 7,
     "metadata": {},
     "output_type": "execute_result"
    }
   ],
   "source": [
    "torch.manual_seed(42)\n",
    "\n",
    "model_0 = LinearRegressionModel()\n",
    "\n",
    "list(model_0.parameters())"
   ]
  },
  {
   "cell_type": "code",
   "execution_count": 9,
   "metadata": {},
   "outputs": [
    {
     "data": {
      "text/plain": [
       "OrderedDict([('weights', tensor([0.3367])), ('bias', tensor([0.1288]))])"
      ]
     },
     "execution_count": 9,
     "metadata": {},
     "output_type": "execute_result"
    }
   ],
   "source": [
    "model_0.state_dict()"
   ]
  },
  {
   "cell_type": "markdown",
   "metadata": {},
   "source": [
    "### Predicciones\n",
    "\n",
    "Cuando le pasamos datos al modelo, este los va a correr con el método .forward()."
   ]
  },
  {
   "cell_type": "code",
   "execution_count": 10,
   "metadata": {},
   "outputs": [
    {
     "name": "stdout",
     "output_type": "stream",
     "text": [
      "tensor([[0.3982],\n",
      "        [0.4049],\n",
      "        [0.4116],\n",
      "        [0.4184],\n",
      "        [0.4251],\n",
      "        [0.4318],\n",
      "        [0.4386],\n",
      "        [0.4453],\n",
      "        [0.4520],\n",
      "        [0.4588]])\n"
     ]
    },
    {
     "data": {
      "image/png": "[encoded data removed]",
      "text/plain": [
       "<Figure size 640x480 with 1 Axes>"
      ]
     },
     "metadata": {},
     "output_type": "display_data"
    }
   ],
   "source": [
    "with torch.inference_mode():\n",
    "    y_preds = model_0(X_test)\n",
    "\n",
    "print(y_preds)\n",
    "plot_predictions(predictions=y_preds)"
   ]
  },
  {
   "cell_type": "markdown",
   "metadata": {},
   "source": [
    "### Entrenamiento del modelo\n",
    "\n",
    "La forma de verificar que tan incorrecto son las predicciones se usan loss functions o cost functions.\n",
    "\n",
    "Para el entrenamiento del modelo se necesitan la loss function, optimizador, training loop y testing loop"
   ]
  },
  {
   "cell_type": "code",
   "execution_count": 11,
   "metadata": {},
   "outputs": [
    {
     "data": {
      "text/plain": [
       "OrderedDict([('weights', tensor([0.3367])), ('bias', tensor([0.1288]))])"
      ]
     },
     "execution_count": 11,
     "metadata": {},
     "output_type": "execute_result"
    }
   ],
   "source": [
    "model_0.state_dict()"
   ]
  },
  {
   "cell_type": "code",
   "execution_count": 8,
   "metadata": {},
   "outputs": [],
   "source": [
    "#loss function\n",
    "loss_fn = nn.L1Loss()\n",
    "\n",
    "#optimizador\n",
    "optimizer = torch.optim.SGD(params=model_0.parameters(), lr=0.01)"
   ]
  },
  {
   "cell_type": "markdown",
   "metadata": {},
   "source": [
    "Para el bucle de entrenamiento necesitamos:\n",
    "\n",
    "1) Buclear a través de los datos\n",
    "2) Usar el forward()\n",
    "3) Calcular loss\n",
    "4) Gradiente = 0: con cada iteración se estsblece al grafiente en 0\n",
    "5) Loss backwards: retrocedemos a través de la red para calcular los gradientes de cada parámetro con respecto a la perdida (backpropagation)\n",
    "6) Paso del optimizador: gradiant descent"
   ]
  },
  {
   "cell_type": "code",
   "execution_count": 9,
   "metadata": {},
   "outputs": [
    {
     "name": "stdout",
     "output_type": "stream",
     "text": [
      "Epoch: 0 | Loss: 0.31288138031959534 | Test loss: 0.48106518387794495\n",
      "Epoch: 2 | Loss: 0.28983935713768005 | Test loss: 0.4541231691837311\n",
      "Epoch: 4 | Loss: 0.26679736375808716 | Test loss: 0.4271811842918396\n",
      "Epoch: 6 | Loss: 0.24375534057617188 | Test loss: 0.40023916959762573\n",
      "Epoch: 8 | Loss: 0.22071333229541779 | Test loss: 0.37329721450805664\n",
      "Epoch: 10 | Loss: 0.1976713240146637 | Test loss: 0.3463551998138428\n",
      "Epoch: 12 | Loss: 0.1746293306350708 | Test loss: 0.3194132149219513\n",
      "Epoch: 14 | Loss: 0.1515873372554779 | Test loss: 0.2924712300300598\n",
      "Epoch: 16 | Loss: 0.1285453587770462 | Test loss: 0.2655292749404907\n",
      "Epoch: 18 | Loss: 0.1060912236571312 | Test loss: 0.2395961582660675\n",
      "Epoch: 20 | Loss: 0.08908725529909134 | Test loss: 0.21729660034179688\n",
      "Epoch: 22 | Loss: 0.07638873159885406 | Test loss: 0.19773726165294647\n",
      "Epoch: 24 | Loss: 0.06747635453939438 | Test loss: 0.18101617693901062\n",
      "Epoch: 26 | Loss: 0.06097004935145378 | Test loss: 0.16665108501911163\n",
      "Epoch: 28 | Loss: 0.05635259300470352 | Test loss: 0.15471318364143372\n",
      "Epoch: 30 | Loss: 0.053148526698350906 | Test loss: 0.14464017748832703\n",
      "Epoch: 32 | Loss: 0.05069301277399063 | Test loss: 0.13647659122943878\n",
      "Epoch: 34 | Loss: 0.04895269125699997 | Test loss: 0.12895536422729492\n",
      "Epoch: 36 | Loss: 0.047531817108392715 | Test loss: 0.12273679673671722\n",
      "Epoch: 38 | Loss: 0.04642331600189209 | Test loss: 0.11783860623836517\n",
      "Epoch: 40 | Loss: 0.04543796554207802 | Test loss: 0.11360953003168106\n",
      "Epoch: 42 | Loss: 0.04463795945048332 | Test loss: 0.1100495308637619\n",
      "Epoch: 44 | Loss: 0.04383796453475952 | Test loss: 0.10648951679468155\n",
      "Epoch: 46 | Loss: 0.043074630200862885 | Test loss: 0.10360751301050186\n",
      "Epoch: 48 | Loss: 0.04237663000822067 | Test loss: 0.10140349715948105\n",
      "Epoch: 50 | Loss: 0.04167863354086876 | Test loss: 0.09919948130846024\n",
      "Epoch: 52 | Loss: 0.04098063334822655 | Test loss: 0.09699545800685883\n",
      "Epoch: 54 | Loss: 0.040282636880874634 | Test loss: 0.0947914719581604\n",
      "Epoch: 56 | Loss: 0.03958464413881302 | Test loss: 0.09258746355772018\n",
      "Epoch: 58 | Loss: 0.03888664394617081 | Test loss: 0.09038344770669937\n",
      "Epoch: 60 | Loss: 0.03818932920694351 | Test loss: 0.08886633068323135\n",
      "Epoch: 62 | Loss: 0.0375034399330616 | Test loss: 0.08666229248046875\n",
      "Epoch: 64 | Loss: 0.03681822493672371 | Test loss: 0.08514519035816193\n",
      "Epoch: 66 | Loss: 0.03613303601741791 | Test loss: 0.08362803608179092\n",
      "Epoch: 68 | Loss: 0.03544783592224121 | Test loss: 0.08211090415716171\n",
      "Epoch: 70 | Loss: 0.03476089984178543 | Test loss: 0.0805937647819519\n",
      "Epoch: 72 | Loss: 0.03407188132405281 | Test loss: 0.07907666265964508\n",
      "Epoch: 74 | Loss: 0.03338287025690079 | Test loss: 0.07755951583385468\n",
      "Epoch: 76 | Loss: 0.03269423171877861 | Test loss: 0.07535548508167267\n",
      "Epoch: 78 | Loss: 0.03200903534889221 | Test loss: 0.07383836805820465\n",
      "Epoch: 80 | Loss: 0.03132382780313492 | Test loss: 0.07232122868299484\n",
      "Epoch: 82 | Loss: 0.030638623982667923 | Test loss: 0.07080408930778503\n",
      "Epoch: 84 | Loss: 0.029953425750136375 | Test loss: 0.06928696483373642\n",
      "Epoch: 86 | Loss: 0.029265418648719788 | Test loss: 0.0677698403596878\n",
      "Epoch: 88 | Loss: 0.028576409444212914 | Test loss: 0.066252700984478\n",
      "Epoch: 90 | Loss: 0.02788739837706089 | Test loss: 0.06473556160926819\n",
      "Epoch: 92 | Loss: 0.027199819684028625 | Test loss: 0.06253156810998917\n",
      "Epoch: 94 | Loss: 0.02651461586356163 | Test loss: 0.061014432460069656\n",
      "Epoch: 96 | Loss: 0.025829419493675232 | Test loss: 0.05949730426073074\n",
      "Epoch: 98 | Loss: 0.025144213810563087 | Test loss: 0.057980168610811234\n",
      "Epoch: 100 | Loss: 0.024458957836031914 | Test loss: 0.05646304413676262\n",
      "Epoch: 102 | Loss: 0.02376994863152504 | Test loss: 0.05494590476155281\n",
      "Epoch: 104 | Loss: 0.023080935701727867 | Test loss: 0.0534287691116333\n",
      "Epoch: 106 | Loss: 0.022391926497220993 | Test loss: 0.05191164091229439\n",
      "Epoch: 108 | Loss: 0.02170540764927864 | Test loss: 0.049707621335983276\n",
      "Epoch: 110 | Loss: 0.021020207554101944 | Test loss: 0.04819049686193466\n",
      "Epoch: 112 | Loss: 0.02033500373363495 | Test loss: 0.046673357486724854\n",
      "Epoch: 114 | Loss: 0.019649803638458252 | Test loss: 0.045156221836805344\n",
      "Epoch: 116 | Loss: 0.018963487818837166 | Test loss: 0.04363910108804703\n",
      "Epoch: 118 | Loss: 0.018274478614330292 | Test loss: 0.042121969163417816\n",
      "Epoch: 120 | Loss: 0.01758546568453312 | Test loss: 0.04060482233762741\n",
      "Epoch: 122 | Loss: 0.016896454617381096 | Test loss: 0.0390876941382885\n",
      "Epoch: 124 | Loss: 0.016210997477173805 | Test loss: 0.03688368946313858\n",
      "Epoch: 126 | Loss: 0.015525798313319683 | Test loss: 0.035366542637348175\n",
      "Epoch: 128 | Loss: 0.014840595424175262 | Test loss: 0.03384942561388016\n",
      "Epoch: 130 | Loss: 0.014155393466353416 | Test loss: 0.03233227878808975\n",
      "Epoch: 132 | Loss: 0.013468016870319843 | Test loss: 0.030815154314041138\n",
      "Epoch: 134 | Loss: 0.01277900766581297 | Test loss: 0.02929801307618618\n",
      "Epoch: 136 | Loss: 0.01208999752998352 | Test loss: 0.027780896052718163\n",
      "Epoch: 138 | Loss: 0.011401787400245667 | Test loss: 0.025576870888471603\n",
      "Epoch: 140 | Loss: 0.010716589167714119 | Test loss: 0.024059748277068138\n",
      "Epoch: 142 | Loss: 0.010031387209892273 | Test loss: 0.022542614489793777\n",
      "Epoch: 144 | Loss: 0.009346187114715576 | Test loss: 0.021025484427809715\n",
      "Epoch: 146 | Loss: 0.008660981431603432 | Test loss: 0.019508343189954758\n",
      "Epoch: 148 | Loss: 0.007972544990479946 | Test loss: 0.017991220578551292\n",
      "Epoch: 150 | Loss: 0.0072835334576666355 | Test loss: 0.016474086791276932\n",
      "Epoch: 152 | Loss: 0.006594526115804911 | Test loss: 0.01495695672929287\n",
      "Epoch: 154 | Loss: 0.005907376762479544 | Test loss: 0.012752944603562355\n",
      "Epoch: 156 | Loss: 0.005222178064286709 | Test loss: 0.011235815472900867\n",
      "Epoch: 158 | Loss: 0.004536976106464863 | Test loss: 0.009718680754303932\n",
      "Epoch: 160 | Loss: 0.0038517764769494534 | Test loss: 0.008201557211577892\n",
      "Epoch: 162 | Loss: 0.0031660839449614286 | Test loss: 0.006684416439384222\n",
      "Epoch: 164 | Loss: 0.0024770735763013363 | Test loss: 0.005167287774384022\n",
      "Epoch: 166 | Loss: 0.0017880648374557495 | Test loss: 0.003650152590125799\n",
      "Epoch: 168 | Loss: 0.0011887758737429976 | Test loss: 0.005023092031478882\n",
      "Epoch: 170 | Loss: 0.008932482451200485 | Test loss: 0.005023092031478882\n",
      "Epoch: 172 | Loss: 0.008932482451200485 | Test loss: 0.005023092031478882\n",
      "Epoch: 174 | Loss: 0.008932482451200485 | Test loss: 0.005023092031478882\n",
      "Epoch: 176 | Loss: 0.008932482451200485 | Test loss: 0.005023092031478882\n",
      "Epoch: 178 | Loss: 0.008932482451200485 | Test loss: 0.005023092031478882\n",
      "Epoch: 180 | Loss: 0.008932482451200485 | Test loss: 0.005023092031478882\n",
      "Epoch: 182 | Loss: 0.008932482451200485 | Test loss: 0.005023092031478882\n",
      "Epoch: 184 | Loss: 0.008932482451200485 | Test loss: 0.005023092031478882\n",
      "Epoch: 186 | Loss: 0.008932482451200485 | Test loss: 0.005023092031478882\n",
      "Epoch: 188 | Loss: 0.008932482451200485 | Test loss: 0.005023092031478882\n",
      "Epoch: 190 | Loss: 0.008932482451200485 | Test loss: 0.005023092031478882\n",
      "Epoch: 192 | Loss: 0.008932482451200485 | Test loss: 0.005023092031478882\n",
      "Epoch: 194 | Loss: 0.008932482451200485 | Test loss: 0.005023092031478882\n",
      "Epoch: 196 | Loss: 0.008932482451200485 | Test loss: 0.005023092031478882\n",
      "Epoch: 198 | Loss: 0.008932482451200485 | Test loss: 0.005023092031478882\n"
     ]
    }
   ],
   "source": [
    "#bucle de entrenamiento\n",
    "torch.manual_seed(42)\n",
    "\n",
    "\n",
    "epochs = 200   #el epoch es un loop a través de los datos\n",
    "\n",
    "#track values\n",
    "epoch_count = []\n",
    "loss_values = []\n",
    "test_loss_values = []\n",
    "\n",
    "for epoch in range(epochs):\n",
    "\n",
    "    model_0.train()\n",
    "\n",
    "    #forward pass\n",
    "    y_pred = model_0(X_train)\n",
    "\n",
    "    #calculate loss\n",
    "    loss = loss_fn(y_pred, y_train)\n",
    "\n",
    "    #optimizer zero grad\n",
    "    optimizer.zero_grad()\n",
    "\n",
    "    #backpropagation\n",
    "    loss.backward()\n",
    "\n",
    "    #step the optimizer\n",
    "    optimizer.step()\n",
    "\n",
    "    #testing\n",
    "    model_0.eval()          #desactiva algunas configuraciones en el modelo que no necesitamos para testear\n",
    "    \n",
    "    with torch.inference_mode():\n",
    "        test_pred = model_0(X_test)\n",
    "        test_loss = loss_fn(test_pred, y_test)\n",
    "    \n",
    "    if epoch % 2 == 0:\n",
    "        epoch_count.append(epoch)\n",
    "        loss_values.append(loss)\n",
    "        test_loss_values.append(test_loss)\n",
    "        print(f\"Epoch: {epoch} | Loss: {loss} | Test loss: {test_loss}\")\n",
    "        "
   ]
  },
  {
   "cell_type": "code",
   "execution_count": 10,
   "metadata": {},
   "outputs": [
    {
     "data": {
      "text/plain": [
       "<matplotlib.legend.Legend at 0x1ca727368c0>"
      ]
     },
     "execution_count": 10,
     "metadata": {},
     "output_type": "execute_result"
    },
    {
     "data": {
      "image/png": "[encoded data removed]",
      "text/plain": [
       "<Figure size 640x480 with 1 Axes>"
      ]
     },
     "metadata": {},
     "output_type": "display_data"
    }
   ],
   "source": [
    "#plot the loss curves\n",
    "\n",
    "plot_loss_values = map(lambda x: x.detach().numpy(), loss_values)\n",
    "plot_test_loss_values = map(lambda x: x.detach().numpy(), test_loss_values)\n",
    "\n",
    "plt.plot(epoch_count, list(plot_loss_values), label=\"Train loss\")\n",
    "plt.plot(epoch_count, list(plot_test_loss_values), label=\"Test loss\")\n",
    "plt.title(\"Training and test loss curves\")\n",
    "plt.ylabel(\"Loss\")\n",
    "plt.xlabel(\"Epochs\")\n",
    "plt.legend()"
   ]
  },
  {
   "cell_type": "code",
   "execution_count": 22,
   "metadata": {},
   "outputs": [
    {
     "data": {
      "text/plain": [
       "OrderedDict([('weights', tensor([0.6990])), ('bias', tensor([0.3093]))])"
      ]
     },
     "execution_count": 22,
     "metadata": {},
     "output_type": "execute_result"
    }
   ],
   "source": [
    "model_0.state_dict()"
   ]
  },
  {
   "cell_type": "code",
   "execution_count": 11,
   "metadata": {},
   "outputs": [],
   "source": [
    "with torch.inference_mode():\n",
    "    y_preds_new = model_0(X_test)"
   ]
  },
  {
   "cell_type": "code",
   "execution_count": 12,
   "metadata": {},
   "outputs": [
    {
     "data": {
      "image/png": "[encoded data removed]",
      "text/plain": [
       "<Figure size 640x480 with 1 Axes>"
      ]
     },
     "metadata": {},
     "output_type": "display_data"
    }
   ],
   "source": [
    "plot_predictions(predictions=y_preds_new)"
   ]
  },
  {
   "cell_type": "markdown",
   "metadata": {},
   "source": [
    "### Guardar el modelo\n",
    "\n",
    "3 métodos:\n",
    "- torch.save(): guarda un objeto Pytorch en formato Python's pickle\n",
    "- torch.load(): carga un objeto Pytorch\n",
    "- torch.nn.Module.load_state_dict(): carga el state dict guardado de un modelo"
   ]
  },
  {
   "cell_type": "code",
   "execution_count": 13,
   "metadata": {},
   "outputs": [
    {
     "name": "stdout",
     "output_type": "stream",
     "text": [
      "Saving model to: models\\01_pytorch_workflow_model_0.pth\n"
     ]
    }
   ],
   "source": [
    "from pathlib import Path\n",
    "\n",
    "# 1) Crear el directorio\n",
    "MODEL_PATH = Path(\"models\")\n",
    "MODEL_PATH.mkdir(parents=True, exist_ok=True)\n",
    "\n",
    "# 2) Crear al path de guardado\n",
    "MODEL_NAME = \"01_pytorch_workflow_model_0.pth\"\n",
    "MODEL_SAVE_PATH = MODEL_PATH / MODEL_NAME\n",
    "\n",
    "\n",
    "# 3) Guardar el model state dict\n",
    "print(F\"Saving model to: {MODEL_SAVE_PATH}\")\n",
    "torch.save(obj=model_0.state_dict(), f=MODEL_SAVE_PATH)"
   ]
  },
  {
   "cell_type": "markdown",
   "metadata": {},
   "source": [
    "#### Cargar el modelo\n",
    "\n",
    "Como estamos cargando el state dict del modelo en en lugar del modelo entero, debemos crear una nueva instancia del modelo y cargarle el state dict."
   ]
  },
  {
   "cell_type": "code",
   "execution_count": 15,
   "metadata": {},
   "outputs": [
    {
     "data": {
      "text/plain": [
       "<All keys matched successfully>"
      ]
     },
     "execution_count": 15,
     "metadata": {},
     "output_type": "execute_result"
    }
   ],
   "source": [
    "loaded_model_0 = LinearRegressionModel()\n",
    "\n",
    "loaded_model_0.load_state_dict(torch.load(f=MODEL_SAVE_PATH))"
   ]
  },
  {
   "cell_type": "code",
   "execution_count": 16,
   "metadata": {},
   "outputs": [
    {
     "data": {
      "text/plain": [
       "tensor([[True],\n",
       "        [True],\n",
       "        [True],\n",
       "        [True],\n",
       "        [True],\n",
       "        [True],\n",
       "        [True],\n",
       "        [True],\n",
       "        [True],\n",
       "        [True]])"
      ]
     },
     "execution_count": 16,
     "metadata": {},
     "output_type": "execute_result"
    }
   ],
   "source": [
    "#comparamos modelos\n",
    "loaded_model_0.eval()\n",
    "\n",
    "with torch.inference_mode():\n",
    "    y_preds = model_0(X_test)\n",
    "    loaded_model_preds = loaded_model_0(X_test)\n",
    "\n",
    "y_preds == loaded_model_preds"
   ]
  },
  {
   "cell_type": "markdown",
   "metadata": {},
   "source": [
    "## Repaso y juntando todos los pasos\n",
    "\n",
    "Device-agnostic code: Se prepara para funcionar con GPU pero no si no hay GPU disponible el código trabaja con CPU"
   ]
  },
  {
   "cell_type": "code",
   "execution_count": 17,
   "metadata": {},
   "outputs": [],
   "source": [
    "import torch\n",
    "from torch import nn\n",
    "import numpy as np\n",
    "from matplotlib import pyplot as plt"
   ]
  },
  {
   "cell_type": "code",
   "execution_count": 18,
   "metadata": {},
   "outputs": [
    {
     "name": "stdout",
     "output_type": "stream",
     "text": [
      "Using device: cpu\n"
     ]
    }
   ],
   "source": [
    "device = \"cuda\" if torch.cuda.is_available() else \"cpu\"\n",
    "print(f\"Using device: {device}\")"
   ]
  },
  {
   "cell_type": "code",
   "execution_count": 21,
   "metadata": {},
   "outputs": [],
   "source": [
    "def plot_predictions(train_data = X_train, train_labels = y_train, test_data = X_test, test_labels = y_test, predictions = None, model_name = \"\"):\n",
    "    \"\"\"\n",
    "    Plots training data, test data, and compares predictions\n",
    "\n",
    "    Output:\n",
    "        - Train data (color Blue)\n",
    "        - Test data (color Green)\n",
    "        - Predictions (color red)\n",
    "    \"\"\"\n",
    "    plt.scatter(train_data, train_labels, c=\"b\", s=4, label = \"Training data\")\n",
    "    plt.scatter(test_data, test_labels, c=\"g\", s=4, label = \"Testing data\")\n",
    "\n",
    "    if predictions is not None:\n",
    "        plt.scatter(test_data, predictions, c=\"r\", s=4, label=\"Predictions\")\n",
    "\n",
    "    plt.title(f\"{model_name} Predictions\") \n",
    "\n",
    "    plt.legend()"
   ]
  },
  {
   "cell_type": "markdown",
   "metadata": {},
   "source": [
    "### Datos"
   ]
  },
  {
   "cell_type": "code",
   "execution_count": 20,
   "metadata": {},
   "outputs": [
    {
     "data": {
      "image/png": "[encoded data removed]",
      "text/plain": [
       "<Figure size 640x480 with 1 Axes>"
      ]
     },
     "metadata": {},
     "output_type": "display_data"
    }
   ],
   "source": [
    "weight = 0.7\n",
    "bias = 0.3\n",
    "\n",
    "start = 0\n",
    "end = 1\n",
    "step = 0.02\n",
    "\n",
    "X = torch.arange(start, end, step).unsqueeze(dim=1)\n",
    "y = weight * X + bias\n",
    "\n",
    "#split data\n",
    "train_split = int(0.8 * len(X))\n",
    "X_train, y_train = X[:train_split], y[:train_split]\n",
    "X_test, y_test = X[train_split:], y[train_split:]\n",
    "\n",
    "plot_predictions()"
   ]
  },
  {
   "cell_type": "code",
   "execution_count": 24,
   "metadata": {},
   "outputs": [
    {
     "data": {
      "text/plain": [
       "(LinearRegressionModelV2(\n",
       "   (linear_layer): Linear(in_features=1, out_features=1, bias=True)\n",
       " ),\n",
       " OrderedDict([('linear_layer.weight', tensor([[0.7645]])),\n",
       "              ('linear_layer.bias', tensor([0.8300]))]))"
      ]
     },
     "execution_count": 24,
     "metadata": {},
     "output_type": "execute_result"
    }
   ],
   "source": [
    "class LinearRegressionModelV2(nn.Module):\n",
    "    def __init__(self):\n",
    "        super().__init__()\n",
    "        #usamos nn.Linear() para crear los parámetros del modelo. Es una transformación lineal\n",
    "        self.linear_layer = nn.Linear(in_features=1, out_features=1)\n",
    "\n",
    "    def forward(self, x: torch.Tensor)-> torch.Tensor:\n",
    "        return self.linear_layer(x)\n",
    "    \n",
    "\n",
    "torch.manual_seed(42)\n",
    "model_1 = LinearRegressionModelV2()\n",
    "model_1, model_1.state_dict()"
   ]
  },
  {
   "cell_type": "code",
   "execution_count": 25,
   "metadata": {},
   "outputs": [
    {
     "data": {
      "text/plain": [
       "LinearRegressionModelV2(\n",
       "  (linear_layer): Linear(in_features=1, out_features=1, bias=True)\n",
       ")"
      ]
     },
     "execution_count": 25,
     "metadata": {},
     "output_type": "execute_result"
    }
   ],
   "source": [
    "#set the model to use device target\n",
    "\n",
    "model_1.to(device)"
   ]
  },
  {
   "cell_type": "markdown",
   "metadata": {},
   "source": [
    "### Entrenamiento"
   ]
  },
  {
   "cell_type": "code",
   "execution_count": 26,
   "metadata": {},
   "outputs": [
    {
     "name": "stdout",
     "output_type": "stream",
     "text": [
      "Epoch: 1 | Loss: 0.43996793031692505 | Test loss: 0.31802722811698914\n",
      "Epoch: 2 | Loss: 0.3247579038143158 | Test loss: 0.1833171844482422\n",
      "Epoch: 3 | Loss: 0.20954790711402893 | Test loss: 0.048607222735881805\n",
      "Epoch: 4 | Loss: 0.09433790296316147 | Test loss: 0.08610274642705917\n",
      "Epoch: 5 | Loss: 0.030266335234045982 | Test loss: 0.01726674474775791\n",
      "Epoch: 6 | Loss: 0.03247154876589775 | Test loss: 0.11862673610448837\n",
      "Epoch: 7 | Loss: 0.05759608745574951 | Test loss: 0.016083210706710815\n",
      "Epoch: 8 | Loss: 0.05761389806866646 | Test loss: 0.11862673610448837\n",
      "Epoch: 9 | Loss: 0.05759608745574951 | Test loss: 0.016083210706710815\n",
      "Epoch: 11 | Loss: 0.05759608745574951 | Test loss: 0.016083210706710815\n",
      "Epoch: 12 | Loss: 0.05761389806866646 | Test loss: 0.11862673610448837\n",
      "Epoch: 13 | Loss: 0.05759608745574951 | Test loss: 0.016083210706710815\n",
      "Epoch: 14 | Loss: 0.05761389806866646 | Test loss: 0.11862673610448837\n",
      "Epoch: 15 | Loss: 0.05759608745574951 | Test loss: 0.016083210706710815\n",
      "Epoch: 16 | Loss: 0.05761389806866646 | Test loss: 0.11862673610448837\n",
      "Epoch: 17 | Loss: 0.05759608745574951 | Test loss: 0.016083210706710815\n",
      "Epoch: 18 | Loss: 0.05761389806866646 | Test loss: 0.11862673610448837\n",
      "Epoch: 19 | Loss: 0.05759608745574951 | Test loss: 0.016083210706710815\n",
      "Epoch: 21 | Loss: 0.05759608745574951 | Test loss: 0.016083210706710815\n",
      "Epoch: 22 | Loss: 0.05761389806866646 | Test loss: 0.11862673610448837\n",
      "Epoch: 23 | Loss: 0.05759608745574951 | Test loss: 0.016083210706710815\n",
      "Epoch: 24 | Loss: 0.05761389806866646 | Test loss: 0.11862673610448837\n",
      "Epoch: 25 | Loss: 0.05759608745574951 | Test loss: 0.016083210706710815\n",
      "Epoch: 26 | Loss: 0.05761389806866646 | Test loss: 0.11862673610448837\n",
      "Epoch: 27 | Loss: 0.05759608745574951 | Test loss: 0.016083210706710815\n",
      "Epoch: 28 | Loss: 0.05761389806866646 | Test loss: 0.11862673610448837\n",
      "Epoch: 29 | Loss: 0.05759608745574951 | Test loss: 0.016083210706710815\n",
      "Epoch: 31 | Loss: 0.05759608745574951 | Test loss: 0.016083210706710815\n",
      "Epoch: 32 | Loss: 0.05761389806866646 | Test loss: 0.11862673610448837\n",
      "Epoch: 33 | Loss: 0.05759608745574951 | Test loss: 0.016083210706710815\n",
      "Epoch: 34 | Loss: 0.05761389806866646 | Test loss: 0.11862673610448837\n",
      "Epoch: 35 | Loss: 0.05759608745574951 | Test loss: 0.016083210706710815\n",
      "Epoch: 36 | Loss: 0.05761389806866646 | Test loss: 0.11862673610448837\n",
      "Epoch: 37 | Loss: 0.05759608745574951 | Test loss: 0.016083210706710815\n",
      "Epoch: 38 | Loss: 0.05761389806866646 | Test loss: 0.11862673610448837\n",
      "Epoch: 39 | Loss: 0.05759608745574951 | Test loss: 0.016083210706710815\n",
      "Epoch: 41 | Loss: 0.05759608745574951 | Test loss: 0.016083210706710815\n",
      "Epoch: 42 | Loss: 0.05761389806866646 | Test loss: 0.11862673610448837\n",
      "Epoch: 43 | Loss: 0.05759608745574951 | Test loss: 0.016083210706710815\n",
      "Epoch: 44 | Loss: 0.05761389806866646 | Test loss: 0.11862673610448837\n",
      "Epoch: 45 | Loss: 0.05759608745574951 | Test loss: 0.016083210706710815\n",
      "Epoch: 46 | Loss: 0.05761389806866646 | Test loss: 0.11862673610448837\n",
      "Epoch: 47 | Loss: 0.05759608745574951 | Test loss: 0.016083210706710815\n",
      "Epoch: 48 | Loss: 0.05761389806866646 | Test loss: 0.11862673610448837\n",
      "Epoch: 49 | Loss: 0.05759608745574951 | Test loss: 0.016083210706710815\n",
      "Epoch: 51 | Loss: 0.05759608745574951 | Test loss: 0.016083210706710815\n",
      "Epoch: 52 | Loss: 0.05761389806866646 | Test loss: 0.11862673610448837\n",
      "Epoch: 53 | Loss: 0.05759608745574951 | Test loss: 0.016083210706710815\n",
      "Epoch: 54 | Loss: 0.05761389806866646 | Test loss: 0.11862673610448837\n",
      "Epoch: 55 | Loss: 0.05759608745574951 | Test loss: 0.016083210706710815\n",
      "Epoch: 56 | Loss: 0.05761389806866646 | Test loss: 0.11862673610448837\n",
      "Epoch: 57 | Loss: 0.05759608745574951 | Test loss: 0.016083210706710815\n",
      "Epoch: 58 | Loss: 0.05761389806866646 | Test loss: 0.11862673610448837\n",
      "Epoch: 59 | Loss: 0.05759608745574951 | Test loss: 0.016083210706710815\n",
      "Epoch: 61 | Loss: 0.05759608745574951 | Test loss: 0.016083210706710815\n",
      "Epoch: 62 | Loss: 0.05761389806866646 | Test loss: 0.11862673610448837\n",
      "Epoch: 63 | Loss: 0.05759608745574951 | Test loss: 0.016083210706710815\n",
      "Epoch: 64 | Loss: 0.05761389806866646 | Test loss: 0.11862673610448837\n",
      "Epoch: 65 | Loss: 0.05759608745574951 | Test loss: 0.016083210706710815\n",
      "Epoch: 66 | Loss: 0.05761389806866646 | Test loss: 0.11862673610448837\n",
      "Epoch: 67 | Loss: 0.05759608745574951 | Test loss: 0.016083210706710815\n",
      "Epoch: 68 | Loss: 0.05761389806866646 | Test loss: 0.11862673610448837\n",
      "Epoch: 69 | Loss: 0.05759608745574951 | Test loss: 0.016083210706710815\n",
      "Epoch: 71 | Loss: 0.05759608745574951 | Test loss: 0.016083210706710815\n",
      "Epoch: 72 | Loss: 0.05761389806866646 | Test loss: 0.11862673610448837\n",
      "Epoch: 73 | Loss: 0.05759608745574951 | Test loss: 0.016083210706710815\n",
      "Epoch: 74 | Loss: 0.05761389806866646 | Test loss: 0.11862673610448837\n",
      "Epoch: 75 | Loss: 0.05759608745574951 | Test loss: 0.016083210706710815\n",
      "Epoch: 76 | Loss: 0.05761389806866646 | Test loss: 0.11862673610448837\n",
      "Epoch: 77 | Loss: 0.05759608745574951 | Test loss: 0.016083210706710815\n",
      "Epoch: 78 | Loss: 0.05761389806866646 | Test loss: 0.11862673610448837\n",
      "Epoch: 79 | Loss: 0.05759608745574951 | Test loss: 0.016083210706710815\n",
      "Epoch: 81 | Loss: 0.05759608745574951 | Test loss: 0.016083210706710815\n",
      "Epoch: 82 | Loss: 0.05761389806866646 | Test loss: 0.11862673610448837\n",
      "Epoch: 83 | Loss: 0.05759608745574951 | Test loss: 0.016083210706710815\n",
      "Epoch: 84 | Loss: 0.05761389806866646 | Test loss: 0.11862673610448837\n",
      "Epoch: 85 | Loss: 0.05759608745574951 | Test loss: 0.016083210706710815\n",
      "Epoch: 86 | Loss: 0.05761389806866646 | Test loss: 0.11862673610448837\n",
      "Epoch: 87 | Loss: 0.05759608745574951 | Test loss: 0.016083210706710815\n",
      "Epoch: 88 | Loss: 0.05761389806866646 | Test loss: 0.11862673610448837\n",
      "Epoch: 89 | Loss: 0.05759608745574951 | Test loss: 0.016083210706710815\n",
      "Epoch: 91 | Loss: 0.05759608745574951 | Test loss: 0.016083210706710815\n",
      "Epoch: 92 | Loss: 0.05761389806866646 | Test loss: 0.11862673610448837\n",
      "Epoch: 93 | Loss: 0.05759608745574951 | Test loss: 0.016083210706710815\n",
      "Epoch: 94 | Loss: 0.05761389806866646 | Test loss: 0.11862673610448837\n",
      "Epoch: 95 | Loss: 0.05759608745574951 | Test loss: 0.016083210706710815\n",
      "Epoch: 96 | Loss: 0.05761389806866646 | Test loss: 0.11862673610448837\n",
      "Epoch: 97 | Loss: 0.05759608745574951 | Test loss: 0.016083210706710815\n",
      "Epoch: 98 | Loss: 0.05761389806866646 | Test loss: 0.11862673610448837\n",
      "Epoch: 99 | Loss: 0.05759608745574951 | Test loss: 0.016083210706710815\n",
      "Epoch: 101 | Loss: 0.05759608745574951 | Test loss: 0.016083210706710815\n",
      "Epoch: 102 | Loss: 0.05761389806866646 | Test loss: 0.11862673610448837\n",
      "Epoch: 103 | Loss: 0.05759608745574951 | Test loss: 0.016083210706710815\n",
      "Epoch: 104 | Loss: 0.05761389806866646 | Test loss: 0.11862673610448837\n",
      "Epoch: 105 | Loss: 0.05759608745574951 | Test loss: 0.016083210706710815\n",
      "Epoch: 106 | Loss: 0.05761389806866646 | Test loss: 0.11862673610448837\n",
      "Epoch: 107 | Loss: 0.05759608745574951 | Test loss: 0.016083210706710815\n",
      "Epoch: 108 | Loss: 0.05761389806866646 | Test loss: 0.11862673610448837\n",
      "Epoch: 109 | Loss: 0.05759608745574951 | Test loss: 0.016083210706710815\n",
      "Epoch: 111 | Loss: 0.05759608745574951 | Test loss: 0.016083210706710815\n",
      "Epoch: 112 | Loss: 0.05761389806866646 | Test loss: 0.11862673610448837\n",
      "Epoch: 113 | Loss: 0.05759608745574951 | Test loss: 0.016083210706710815\n",
      "Epoch: 114 | Loss: 0.05761389806866646 | Test loss: 0.11862673610448837\n",
      "Epoch: 115 | Loss: 0.05759608745574951 | Test loss: 0.016083210706710815\n",
      "Epoch: 116 | Loss: 0.05761389806866646 | Test loss: 0.11862673610448837\n",
      "Epoch: 117 | Loss: 0.05759608745574951 | Test loss: 0.016083210706710815\n",
      "Epoch: 118 | Loss: 0.05761389806866646 | Test loss: 0.11862673610448837\n",
      "Epoch: 119 | Loss: 0.05759608745574951 | Test loss: 0.016083210706710815\n",
      "Epoch: 121 | Loss: 0.05759608745574951 | Test loss: 0.016083210706710815\n",
      "Epoch: 122 | Loss: 0.05761389806866646 | Test loss: 0.11862673610448837\n",
      "Epoch: 123 | Loss: 0.05759608745574951 | Test loss: 0.016083210706710815\n",
      "Epoch: 124 | Loss: 0.05761389806866646 | Test loss: 0.11862673610448837\n",
      "Epoch: 125 | Loss: 0.05759608745574951 | Test loss: 0.016083210706710815\n",
      "Epoch: 126 | Loss: 0.05761389806866646 | Test loss: 0.11862673610448837\n",
      "Epoch: 127 | Loss: 0.05759608745574951 | Test loss: 0.016083210706710815\n",
      "Epoch: 128 | Loss: 0.05761389806866646 | Test loss: 0.11862673610448837\n",
      "Epoch: 129 | Loss: 0.05759608745574951 | Test loss: 0.016083210706710815\n",
      "Epoch: 131 | Loss: 0.05759608745574951 | Test loss: 0.016083210706710815\n",
      "Epoch: 132 | Loss: 0.05761389806866646 | Test loss: 0.11862673610448837\n",
      "Epoch: 133 | Loss: 0.05759608745574951 | Test loss: 0.016083210706710815\n",
      "Epoch: 134 | Loss: 0.05761389806866646 | Test loss: 0.11862673610448837\n",
      "Epoch: 135 | Loss: 0.05759608745574951 | Test loss: 0.016083210706710815\n",
      "Epoch: 136 | Loss: 0.05761389806866646 | Test loss: 0.11862673610448837\n",
      "Epoch: 137 | Loss: 0.05759608745574951 | Test loss: 0.016083210706710815\n",
      "Epoch: 138 | Loss: 0.05761389806866646 | Test loss: 0.11862673610448837\n",
      "Epoch: 139 | Loss: 0.05759608745574951 | Test loss: 0.016083210706710815\n",
      "Epoch: 141 | Loss: 0.05759608745574951 | Test loss: 0.016083210706710815\n",
      "Epoch: 142 | Loss: 0.05761389806866646 | Test loss: 0.11862673610448837\n",
      "Epoch: 143 | Loss: 0.05759608745574951 | Test loss: 0.016083210706710815\n",
      "Epoch: 144 | Loss: 0.05761389806866646 | Test loss: 0.11862673610448837\n",
      "Epoch: 145 | Loss: 0.05759608745574951 | Test loss: 0.016083210706710815\n",
      "Epoch: 146 | Loss: 0.05761389806866646 | Test loss: 0.11862673610448837\n",
      "Epoch: 147 | Loss: 0.05759608745574951 | Test loss: 0.016083210706710815\n",
      "Epoch: 148 | Loss: 0.05761389806866646 | Test loss: 0.11862673610448837\n",
      "Epoch: 149 | Loss: 0.05759608745574951 | Test loss: 0.016083210706710815\n",
      "Epoch: 151 | Loss: 0.05759608745574951 | Test loss: 0.016083210706710815\n",
      "Epoch: 152 | Loss: 0.05761389806866646 | Test loss: 0.11862673610448837\n",
      "Epoch: 153 | Loss: 0.05759608745574951 | Test loss: 0.016083210706710815\n",
      "Epoch: 154 | Loss: 0.05761389806866646 | Test loss: 0.11862673610448837\n",
      "Epoch: 155 | Loss: 0.05759608745574951 | Test loss: 0.016083210706710815\n",
      "Epoch: 156 | Loss: 0.05761389806866646 | Test loss: 0.11862673610448837\n",
      "Epoch: 157 | Loss: 0.05759608745574951 | Test loss: 0.016083210706710815\n",
      "Epoch: 158 | Loss: 0.05761389806866646 | Test loss: 0.11862673610448837\n",
      "Epoch: 159 | Loss: 0.05759608745574951 | Test loss: 0.016083210706710815\n",
      "Epoch: 161 | Loss: 0.05759608745574951 | Test loss: 0.016083210706710815\n",
      "Epoch: 162 | Loss: 0.05761389806866646 | Test loss: 0.11862673610448837\n",
      "Epoch: 163 | Loss: 0.05759608745574951 | Test loss: 0.016083210706710815\n",
      "Epoch: 164 | Loss: 0.05761389806866646 | Test loss: 0.11862673610448837\n",
      "Epoch: 165 | Loss: 0.05759608745574951 | Test loss: 0.016083210706710815\n",
      "Epoch: 166 | Loss: 0.05761389806866646 | Test loss: 0.11862673610448837\n",
      "Epoch: 167 | Loss: 0.05759608745574951 | Test loss: 0.016083210706710815\n",
      "Epoch: 168 | Loss: 0.05761389806866646 | Test loss: 0.11862673610448837\n",
      "Epoch: 169 | Loss: 0.05759608745574951 | Test loss: 0.016083210706710815\n",
      "Epoch: 171 | Loss: 0.05759608745574951 | Test loss: 0.016083210706710815\n",
      "Epoch: 172 | Loss: 0.05761389806866646 | Test loss: 0.11862673610448837\n",
      "Epoch: 173 | Loss: 0.05759608745574951 | Test loss: 0.016083210706710815\n",
      "Epoch: 174 | Loss: 0.05761389806866646 | Test loss: 0.11862673610448837\n",
      "Epoch: 175 | Loss: 0.05759608745574951 | Test loss: 0.016083210706710815\n",
      "Epoch: 176 | Loss: 0.05761389806866646 | Test loss: 0.11862673610448837\n",
      "Epoch: 177 | Loss: 0.05759608745574951 | Test loss: 0.016083210706710815\n",
      "Epoch: 178 | Loss: 0.05761389806866646 | Test loss: 0.11862673610448837\n",
      "Epoch: 179 | Loss: 0.05759608745574951 | Test loss: 0.016083210706710815\n",
      "Epoch: 181 | Loss: 0.05759608745574951 | Test loss: 0.016083210706710815\n",
      "Epoch: 182 | Loss: 0.05761389806866646 | Test loss: 0.11862673610448837\n",
      "Epoch: 183 | Loss: 0.05759608745574951 | Test loss: 0.016083210706710815\n",
      "Epoch: 184 | Loss: 0.05761389806866646 | Test loss: 0.11862673610448837\n",
      "Epoch: 185 | Loss: 0.05759608745574951 | Test loss: 0.016083210706710815\n",
      "Epoch: 186 | Loss: 0.05761389806866646 | Test loss: 0.11862673610448837\n",
      "Epoch: 187 | Loss: 0.05759608745574951 | Test loss: 0.016083210706710815\n",
      "Epoch: 188 | Loss: 0.05761389806866646 | Test loss: 0.11862673610448837\n",
      "Epoch: 189 | Loss: 0.05759608745574951 | Test loss: 0.016083210706710815\n",
      "Epoch: 191 | Loss: 0.05759608745574951 | Test loss: 0.016083210706710815\n",
      "Epoch: 192 | Loss: 0.05761389806866646 | Test loss: 0.11862673610448837\n",
      "Epoch: 193 | Loss: 0.05759608745574951 | Test loss: 0.016083210706710815\n",
      "Epoch: 194 | Loss: 0.05761389806866646 | Test loss: 0.11862673610448837\n",
      "Epoch: 195 | Loss: 0.05759608745574951 | Test loss: 0.016083210706710815\n",
      "Epoch: 196 | Loss: 0.05761389806866646 | Test loss: 0.11862673610448837\n",
      "Epoch: 197 | Loss: 0.05759608745574951 | Test loss: 0.016083210706710815\n",
      "Epoch: 198 | Loss: 0.05761389806866646 | Test loss: 0.11862673610448837\n",
      "Epoch: 199 | Loss: 0.05759608745574951 | Test loss: 0.016083210706710815\n"
     ]
    }
   ],
   "source": [
    "#setup loss function\n",
    "loss_fn = nn.L1Loss()\n",
    "\n",
    "#setup optimizer\n",
    "optimizer = torch.optim.SGD(lr = 0.1, params=model_1.parameters())\n",
    "\n",
    "#training loop\n",
    "\n",
    "torch.manual_seed(42)\n",
    "\n",
    "epochs = 200\n",
    "\n",
    "X_train = X_train.to(device)\n",
    "y_train = y_train.to(device)\n",
    "X_test = X_test.to(device)\n",
    "\n",
    "for epoch in range(epochs):\n",
    "    model_1.train()\n",
    "\n",
    "    # 1) forward() pass\n",
    "    y_pred = model_1(X_train)\n",
    "\n",
    "    # 2) calular loss\n",
    "    loss = loss_fn(y_pred, y_train)\n",
    "\n",
    "    # 3) Optimizer zero grad\n",
    "    optimizer.zero_grad()\n",
    "\n",
    "    # 4) backpropagation\n",
    "    loss.backward()\n",
    "\n",
    "    # 5) Optimizer step\n",
    "    optimizer.step()\n",
    "\n",
    "    #Testing\n",
    "    model_1.eval()\n",
    "\n",
    "    with torch.inference_mode():\n",
    "        test_pred = model_1(X_test)\n",
    "        test_loss = loss_fn(test_pred, y_test)\n",
    "\n",
    "    if epoch % 10: \n",
    "        print(f\"Epoch: {epoch} | Loss: {loss} | Test loss: {test_loss}\")"
   ]
  },
  {
   "cell_type": "markdown",
   "metadata": {},
   "source": [
    "### Predicciones"
   ]
  },
  {
   "cell_type": "code",
   "execution_count": 28,
   "metadata": {},
   "outputs": [
    {
     "data": {
      "image/png": "[encoded data removed]",
      "text/plain": [
       "<Figure size 640x480 with 1 Axes>"
      ]
     },
     "metadata": {},
     "output_type": "display_data"
    }
   ],
   "source": [
    "model_1.eval()\n",
    "\n",
    "with torch.inference_mode():\n",
    "    y_preds = model_1(X_test)\n",
    "\n",
    "plot_predictions(predictions=y_preds)"
   ]
  },
  {
   "cell_type": "markdown",
   "metadata": {},
   "source": [
    "### Guardar y cargar"
   ]
  },
  {
   "cell_type": "code",
   "execution_count": 29,
   "metadata": {},
   "outputs": [
    {
     "name": "stdout",
     "output_type": "stream",
     "text": [
      "Saving model to: models\\01_pytorch_workflow_model_1.pth\n"
     ]
    }
   ],
   "source": [
    "from pathlib import Path\n",
    "\n",
    "# 1) Crear el directorio\n",
    "MODEL_PATH = Path(\"models\")\n",
    "MODEL_PATH.mkdir(parents=True, exist_ok=True)\n",
    "\n",
    "# 2) Crear al path de guardado\n",
    "MODEL_NAME = \"01_pytorch_workflow_model_1.pth\"\n",
    "MODEL_SAVE_PATH = MODEL_PATH / MODEL_NAME\n",
    "\n",
    "\n",
    "# 3) Guardar el model state dict\n",
    "print(F\"Saving model to: {MODEL_SAVE_PATH}\")\n",
    "torch.save(obj=model_0.state_dict(), f=MODEL_SAVE_PATH)"
   ]
  },
  {
   "cell_type": "code",
   "execution_count": null,
   "metadata": {},
   "outputs": [],
   "source": []
  }
 ],
 "metadata": {
  "kernelspec": {
   "display_name": "base",
   "language": "python",
   "name": "python3"
  },
  "language_info": {
   "codemirror_mode": {
    "name": "ipython",
    "version": 3
   },
   "file_extension": ".py",
   "mimetype": "text/x-python",
   "name": "python",
   "nbconvert_exporter": "python",
   "pygments_lexer": "ipython3",
   "version": "3.10.13"
  }
 },
 "nbformat": 4,
 "nbformat_minor": 2
}
